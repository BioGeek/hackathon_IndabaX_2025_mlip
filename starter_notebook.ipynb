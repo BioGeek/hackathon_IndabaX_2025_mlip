{
  "cells": [
    {
      "cell_type": "markdown",
      "metadata": {
        "id": "LPVUemGzkZXt"
      },
      "source": [
        "# MLIP hackathon starter notebook"
      ]
    },
    {
      "cell_type": "markdown",
      "metadata": {
        "id": "WZbvC8Gq3qPz"
      },
      "source": [
        "In this challenge, we train a Machine Learning Interatomic Potential (MLIP) model using the [`mlip`](https://github.com/instadeepai/mlip) library.\n",
        "\n",
        "If you run this on Google Colab, make sure to select a GPU runtime (Runtime > Change runtime type > Hardware accelerator > GPU)."
      ]
    },
    {
      "cell_type": "code",
      "execution_count": 1,
      "metadata": {
        "colab": {
          "base_uri": "https://localhost:8080/"
        },
        "id": "eLsahv2MlU12",
        "outputId": "a1187c0e-0d41-4ccd-b1ed-3261b809e066"
      },
      "outputs": [
        {
          "output_type": "stream",
          "name": "stdout",
          "text": [
            "Requirement already satisfied: mlip in /usr/local/lib/python3.11/dist-packages (0.1.2)\n",
            "Requirement already satisfied: jax[cuda12] in /usr/local/lib/python3.11/dist-packages (0.4.33)\n",
            "Requirement already satisfied: ase<4.0.0,>=3.22.1 in /usr/local/lib/python3.11/dist-packages (from mlip) (3.25.0)\n",
            "Requirement already satisfied: dm-haiku<0.0.13,>=0.0.12 in /usr/local/lib/python3.11/dist-packages (from mlip) (0.0.12)\n",
            "Requirement already satisfied: dm-tree<0.2.0,>=0.1.8 in /usr/local/lib/python3.11/dist-packages (from mlip) (0.1.9)\n",
            "Requirement already satisfied: e3nn-jax<0.21.0,>=0.20.7 in /usr/local/lib/python3.11/dist-packages (from mlip) (0.20.7)\n",
            "Requirement already satisfied: flax<0.10.0,>=0.9.0 in /usr/local/lib/python3.11/dist-packages (from mlip) (0.9.0)\n",
            "Requirement already satisfied: h5py<4.0.0,>=3.12.1 in /usr/local/lib/python3.11/dist-packages (from mlip) (3.14.0)\n",
            "Requirement already satisfied: jaxlib==0.4.33 in /usr/local/lib/python3.11/dist-packages (from mlip) (0.4.33)\n",
            "Requirement already satisfied: jraph in /usr/local/lib/python3.11/dist-packages (from mlip) (0.0.6.dev0)\n",
            "Requirement already satisfied: matscipy==1.0.0 in /usr/local/lib/python3.11/dist-packages (from mlip) (1.0.0)\n",
            "Requirement already satisfied: numpy<2.0.0,>=1.26.0 in /usr/local/lib/python3.11/dist-packages (from mlip) (1.26.4)\n",
            "Requirement already satisfied: omegaconf<3.0.0,>=2.3.0 in /usr/local/lib/python3.11/dist-packages (from mlip) (2.3.0)\n",
            "Requirement already satisfied: orbax<0.2.0,>=0.1.9 in /usr/local/lib/python3.11/dist-packages (from mlip) (0.1.9)\n",
            "Requirement already satisfied: orbax-checkpoint==0.5.2 in /usr/local/lib/python3.11/dist-packages (from mlip) (0.5.2)\n",
            "Requirement already satisfied: pydantic<3.0.0,>=2.10.2 in /usr/local/lib/python3.11/dist-packages (from mlip) (2.11.7)\n",
            "Requirement already satisfied: roundmantissa<0.3.0,>=0.2.1 in /usr/local/lib/python3.11/dist-packages (from mlip) (0.2.1)\n",
            "Requirement already satisfied: tdqm<0.0.2,>=0.0.1 in /usr/local/lib/python3.11/dist-packages (from mlip) (0.0.1)\n",
            "Requirement already satisfied: tqdm-loggable<0.3,>=0.2 in /usr/local/lib/python3.11/dist-packages (from mlip) (0.2)\n",
            "Requirement already satisfied: ml-dtypes>=0.2.0 in /usr/local/lib/python3.11/dist-packages (from jax[cuda12]) (0.4.1)\n",
            "Requirement already satisfied: opt-einsum in /usr/local/lib/python3.11/dist-packages (from jax[cuda12]) (3.4.0)\n",
            "Requirement already satisfied: scipy>=1.10 in /usr/local/lib/python3.11/dist-packages (from jax[cuda12]) (1.15.3)\n",
            "Requirement already satisfied: looseversion in /usr/local/lib/python3.11/dist-packages (from matscipy==1.0.0->mlip) (1.3.0)\n",
            "Requirement already satisfied: absl-py in /usr/local/lib/python3.11/dist-packages (from orbax-checkpoint==0.5.2->mlip) (1.4.0)\n",
            "Requirement already satisfied: etils[epath,epy] in /usr/local/lib/python3.11/dist-packages (from orbax-checkpoint==0.5.2->mlip) (1.12.2)\n",
            "Requirement already satisfied: typing_extensions in /usr/local/lib/python3.11/dist-packages (from orbax-checkpoint==0.5.2->mlip) (4.14.0)\n",
            "Requirement already satisfied: msgpack in /usr/local/lib/python3.11/dist-packages (from orbax-checkpoint==0.5.2->mlip) (1.1.1)\n",
            "Requirement already satisfied: pyyaml in /usr/local/lib/python3.11/dist-packages (from orbax-checkpoint==0.5.2->mlip) (6.0.2)\n",
            "Requirement already satisfied: tensorstore>=0.1.51 in /usr/local/lib/python3.11/dist-packages (from orbax-checkpoint==0.5.2->mlip) (0.1.74)\n",
            "Requirement already satisfied: nest_asyncio in /usr/local/lib/python3.11/dist-packages (from orbax-checkpoint==0.5.2->mlip) (1.6.0)\n",
            "Requirement already satisfied: protobuf in /usr/local/lib/python3.11/dist-packages (from orbax-checkpoint==0.5.2->mlip) (5.29.5)\n",
            "Requirement already satisfied: jax-cuda12-plugin<=0.4.33,>=0.4.33 in /usr/local/lib/python3.11/dist-packages (from jax-cuda12-plugin[with_cuda]<=0.4.33,>=0.4.33; extra == \"cuda12\"->jax[cuda12]) (0.4.33)\n",
            "Requirement already satisfied: matplotlib>=3.3.4 in /usr/local/lib/python3.11/dist-packages (from ase<4.0.0,>=3.22.1->mlip) (3.10.0)\n",
            "Requirement already satisfied: jmp>=0.0.2 in /usr/local/lib/python3.11/dist-packages (from dm-haiku<0.0.13,>=0.0.12->mlip) (0.0.4)\n",
            "Requirement already satisfied: tabulate>=0.8.9 in /usr/local/lib/python3.11/dist-packages (from dm-haiku<0.0.13,>=0.0.12->mlip) (0.9.0)\n",
            "Requirement already satisfied: attrs>=18.2.0 in /usr/local/lib/python3.11/dist-packages (from dm-tree<0.2.0,>=0.1.8->mlip) (25.3.0)\n",
            "Requirement already satisfied: wrapt>=1.11.2 in /usr/local/lib/python3.11/dist-packages (from dm-tree<0.2.0,>=0.1.8->mlip) (1.17.2)\n",
            "Requirement already satisfied: sympy in /usr/local/lib/python3.11/dist-packages (from e3nn-jax<0.21.0,>=0.20.7->mlip) (1.13.1)\n",
            "Requirement already satisfied: optax in /usr/local/lib/python3.11/dist-packages (from flax<0.10.0,>=0.9.0->mlip) (0.2.5)\n",
            "Requirement already satisfied: rich>=11.1 in /usr/local/lib/python3.11/dist-packages (from flax<0.10.0,>=0.9.0->mlip) (13.9.4)\n",
            "Requirement already satisfied: jax-cuda12-pjrt==0.4.33 in /usr/local/lib/python3.11/dist-packages (from jax-cuda12-plugin<=0.4.33,>=0.4.33->jax-cuda12-plugin[with_cuda]<=0.4.33,>=0.4.33; extra == \"cuda12\"->jax[cuda12]) (0.4.33)\n",
            "Requirement already satisfied: nvidia-cublas-cu12>=12.1.3.1 in /usr/local/lib/python3.11/dist-packages (from jax-cuda12-plugin[with_cuda]<=0.4.33,>=0.4.33; extra == \"cuda12\"->jax[cuda12]) (12.5.3.2)\n",
            "Requirement already satisfied: nvidia-cuda-cupti-cu12>=12.1.105 in /usr/local/lib/python3.11/dist-packages (from jax-cuda12-plugin[with_cuda]<=0.4.33,>=0.4.33; extra == \"cuda12\"->jax[cuda12]) (12.5.82)\n",
            "Requirement already satisfied: nvidia-cuda-nvcc-cu12>=12.1.105 in /usr/local/lib/python3.11/dist-packages (from jax-cuda12-plugin[with_cuda]<=0.4.33,>=0.4.33; extra == \"cuda12\"->jax[cuda12]) (12.5.82)\n",
            "Requirement already satisfied: nvidia-cuda-runtime-cu12>=12.1.105 in /usr/local/lib/python3.11/dist-packages (from jax-cuda12-plugin[with_cuda]<=0.4.33,>=0.4.33; extra == \"cuda12\"->jax[cuda12]) (12.5.82)\n",
            "Requirement already satisfied: nvidia-cudnn-cu12<10.0,>=9.1 in /usr/local/lib/python3.11/dist-packages (from jax-cuda12-plugin[with_cuda]<=0.4.33,>=0.4.33; extra == \"cuda12\"->jax[cuda12]) (9.3.0.75)\n",
            "Requirement already satisfied: nvidia-cufft-cu12>=11.0.2.54 in /usr/local/lib/python3.11/dist-packages (from jax-cuda12-plugin[with_cuda]<=0.4.33,>=0.4.33; extra == \"cuda12\"->jax[cuda12]) (11.2.3.61)\n",
            "Requirement already satisfied: nvidia-cusolver-cu12>=11.4.5.107 in /usr/local/lib/python3.11/dist-packages (from jax-cuda12-plugin[with_cuda]<=0.4.33,>=0.4.33; extra == \"cuda12\"->jax[cuda12]) (11.6.3.83)\n",
            "Requirement already satisfied: nvidia-cusparse-cu12>=12.1.0.106 in /usr/local/lib/python3.11/dist-packages (from jax-cuda12-plugin[with_cuda]<=0.4.33,>=0.4.33; extra == \"cuda12\"->jax[cuda12]) (12.5.1.3)\n",
            "Requirement already satisfied: nvidia-nccl-cu12>=2.18.1 in /usr/local/lib/python3.11/dist-packages (from jax-cuda12-plugin[with_cuda]<=0.4.33,>=0.4.33; extra == \"cuda12\"->jax[cuda12]) (2.21.5)\n",
            "Requirement already satisfied: nvidia-nvjitlink-cu12>=12.1.105 in /usr/local/lib/python3.11/dist-packages (from jax-cuda12-plugin[with_cuda]<=0.4.33,>=0.4.33; extra == \"cuda12\"->jax[cuda12]) (12.5.82)\n",
            "Requirement already satisfied: antlr4-python3-runtime==4.9.* in /usr/local/lib/python3.11/dist-packages (from omegaconf<3.0.0,>=2.3.0->mlip) (4.9.3)\n",
            "Requirement already satisfied: annotated-types>=0.6.0 in /usr/local/lib/python3.11/dist-packages (from pydantic<3.0.0,>=2.10.2->mlip) (0.7.0)\n",
            "Requirement already satisfied: pydantic-core==2.33.2 in /usr/local/lib/python3.11/dist-packages (from pydantic<3.0.0,>=2.10.2->mlip) (2.33.2)\n",
            "Requirement already satisfied: typing-inspection>=0.4.0 in /usr/local/lib/python3.11/dist-packages (from pydantic<3.0.0,>=2.10.2->mlip) (0.4.1)\n",
            "Requirement already satisfied: tqdm in /usr/local/lib/python3.11/dist-packages (from tdqm<0.0.2,>=0.0.1->mlip) (4.67.1)\n",
            "Requirement already satisfied: contourpy>=1.0.1 in /usr/local/lib/python3.11/dist-packages (from matplotlib>=3.3.4->ase<4.0.0,>=3.22.1->mlip) (1.3.2)\n",
            "Requirement already satisfied: cycler>=0.10 in /usr/local/lib/python3.11/dist-packages (from matplotlib>=3.3.4->ase<4.0.0,>=3.22.1->mlip) (0.12.1)\n",
            "Requirement already satisfied: fonttools>=4.22.0 in /usr/local/lib/python3.11/dist-packages (from matplotlib>=3.3.4->ase<4.0.0,>=3.22.1->mlip) (4.58.4)\n",
            "Requirement already satisfied: kiwisolver>=1.3.1 in /usr/local/lib/python3.11/dist-packages (from matplotlib>=3.3.4->ase<4.0.0,>=3.22.1->mlip) (1.4.8)\n",
            "Requirement already satisfied: packaging>=20.0 in /usr/local/lib/python3.11/dist-packages (from matplotlib>=3.3.4->ase<4.0.0,>=3.22.1->mlip) (24.2)\n",
            "Requirement already satisfied: pillow>=8 in /usr/local/lib/python3.11/dist-packages (from matplotlib>=3.3.4->ase<4.0.0,>=3.22.1->mlip) (11.2.1)\n",
            "Requirement already satisfied: pyparsing>=2.3.1 in /usr/local/lib/python3.11/dist-packages (from matplotlib>=3.3.4->ase<4.0.0,>=3.22.1->mlip) (3.2.3)\n",
            "Requirement already satisfied: python-dateutil>=2.7 in /usr/local/lib/python3.11/dist-packages (from matplotlib>=3.3.4->ase<4.0.0,>=3.22.1->mlip) (2.9.0.post0)\n",
            "Requirement already satisfied: markdown-it-py>=2.2.0 in /usr/local/lib/python3.11/dist-packages (from rich>=11.1->flax<0.10.0,>=0.9.0->mlip) (3.0.0)\n",
            "Requirement already satisfied: pygments<3.0.0,>=2.13.0 in /usr/local/lib/python3.11/dist-packages (from rich>=11.1->flax<0.10.0,>=0.9.0->mlip) (2.19.2)\n",
            "Requirement already satisfied: fsspec in /usr/local/lib/python3.11/dist-packages (from etils[epath,epy]->orbax-checkpoint==0.5.2->mlip) (2025.3.2)\n",
            "Requirement already satisfied: importlib_resources in /usr/local/lib/python3.11/dist-packages (from etils[epath,epy]->orbax-checkpoint==0.5.2->mlip) (6.5.2)\n",
            "Requirement already satisfied: zipp in /usr/local/lib/python3.11/dist-packages (from etils[epath,epy]->orbax-checkpoint==0.5.2->mlip) (3.23.0)\n",
            "Requirement already satisfied: chex>=0.1.87 in /usr/local/lib/python3.11/dist-packages (from optax->flax<0.10.0,>=0.9.0->mlip) (0.1.89)\n",
            "Requirement already satisfied: mpmath<1.4,>=1.1.0 in /usr/local/lib/python3.11/dist-packages (from sympy->e3nn-jax<0.21.0,>=0.20.7->mlip) (1.3.0)\n",
            "Requirement already satisfied: toolz>=0.9.0 in /usr/local/lib/python3.11/dist-packages (from chex>=0.1.87->optax->flax<0.10.0,>=0.9.0->mlip) (0.12.1)\n",
            "Requirement already satisfied: mdurl~=0.1 in /usr/local/lib/python3.11/dist-packages (from markdown-it-py>=2.2.0->rich>=11.1->flax<0.10.0,>=0.9.0->mlip) (0.1.2)\n",
            "Requirement already satisfied: six>=1.5 in /usr/local/lib/python3.11/dist-packages (from python-dateutil>=2.7->matplotlib>=3.3.4->ase<4.0.0,>=3.22.1->mlip) (1.17.0)\n"
          ]
        }
      ],
      "source": [
        "!pip install mlip \"jax[cuda12]\""
      ]
    },
    {
      "cell_type": "markdown",
      "metadata": {
        "id": "9bd0DkOGeScx"
      },
      "source": [
        "**Install, required imports, and logging setup**\n"
      ]
    },
    {
      "cell_type": "code",
      "execution_count": 12,
      "metadata": {
        "id": "7j0nxIefksNG"
      },
      "outputs": [],
      "source": [
        "import os\n",
        "import numpy as np\n",
        "import pandas as pd\n",
        "import logging\n",
        "import matplotlib.pyplot as plt\n",
        "\n",
        "# For dataset loading\n",
        "from mlip.data import GraphDatasetBuilder, ExtxyzReader\n",
        "\n",
        "# For model\n",
        "from mlip.models import Mace, Nequip, Visnet, ForceField\n",
        "\n",
        "# For optimizer\n",
        "import optax\n",
        "\n",
        "# For loss function\n",
        "from mlip.models.loss import MSELoss\n",
        "\n",
        "# For training\n",
        "from mlip.training import TrainingLoop\n",
        "from mlip.models.model_io import save_model_to_zip, load_model_from_zip\n",
        "from mlip.models.params_loading import load_parameters_from_checkpoint\n",
        "\n",
        "# For checkpointing\n",
        "from mlip.training import TrainingIOHandler, log_metrics_to_line\n",
        "from mlip.training.training_io_handler import LogCategory\n",
        "\n",
        "# Set up logging\n",
        "logging.basicConfig(level=logging.INFO, force=True, format='%(levelname)s - %(message)s')\n",
        "\n",
        "# Set dedicated logging for mlip. Set this to logging.DEBUG to see more detailed logs.\n",
        "logging.getLogger(\"mlip\").setLevel(logging.INFO)"
      ]
    },
    {
      "cell_type": "markdown",
      "metadata": {
        "id": "Ru3fIT7Tq24A"
      },
      "source": [
        "Let's also check what device we are using:"
      ]
    },
    {
      "cell_type": "code",
      "execution_count": 3,
      "metadata": {
        "colab": {
          "base_uri": "https://localhost:8080/"
        },
        "id": "i7bAOYOrqxN8",
        "outputId": "92fae33f-4b1b-4c71-ecef-edeff9be334a"
      },
      "outputs": [
        {
          "output_type": "stream",
          "name": "stderr",
          "text": [
            "INFO - Unable to initialize backend 'rocm': module 'jaxlib.xla_extension' has no attribute 'GpuAllocatorConfig'\n",
            "INFO - Unable to initialize backend 'tpu': INTERNAL: Failed to open libtpu.so: libtpu.so: cannot open shared object file: No such file or directory\n"
          ]
        },
        {
          "output_type": "stream",
          "name": "stdout",
          "text": [
            "[CudaDevice(id=0)]\n"
          ]
        }
      ],
      "source": [
        "import jax\n",
        "\n",
        "print(jax.devices())"
      ]
    },
    {
      "cell_type": "markdown",
      "metadata": {
        "id": "cksPWIwMkt-G"
      },
      "source": [
        "## 1. Preparing a dataset"
      ]
    },
    {
      "cell_type": "markdown",
      "metadata": {
        "id": "OkHNCGbVwyCK"
      },
      "source": [
        "For this example, we train on configurations of a molecule called [3-(benzyloxy)pyridin-2-amine](https://pubchem.ncbi.nlm.nih.gov/substance/854545) (molecular formula `C12H12N2O`, abbreviated as `3BPA`) sampled with Molecular Dynamics at a temperature of 300 Kelvin.\n",
        "\n",
        "It's molecular structure consists of a **pyridin-2-amine core**:\n",
        "\n",
        " * A **pyridine ring** (six-membered aromatic ring with one nitrogen atom).\n",
        "\n",
        " * An **amino group (-NH₂)** at the 2-position of the pyridine ring (adjacent to the nitrogen).\n",
        "\n",
        "Benzyloxy substituent at position 3:\n",
        "\n",
        " * A **benzyloxy group (-OCH₂C₆H₅)** is attached to the 3-position of the pyridine ring.\n",
        "\n",
        " * This consists of a **methylene bridge (–CH₂–)** bonded to a **phenyl ring (C₆H₅)**, connected via an **ether linkage (–O–)**.\n",
        "\n",
        "![3BPA](https://go.drugbank.com/structures/DB02352/thumb.svg)"
      ]
    },
    {
      "cell_type": "markdown",
      "metadata": {
        "id": "CsWBkN4xlU14"
      },
      "source": [
        "The data processing **is a two step process**:\n",
        "\n",
        "1. **We read the data from disk into [`ChemicalSystem`](https://instadeepai.github.io/mlip/api_reference/data/chemical_system.html) objects**. This is done by a \"reader\", and since the dataset is stored in extended xyz format, it can be read with the [`ExtxyzReader`](https://instadeepai.github.io/mlip/api_reference/data/chemical_systems_readers/extxyz_reader.html). The *mlip* library also includes a HDF5 format reader: [`Hdf5Reader`](https://instadeepai.github.io/mlip/api_reference/data/chemical_systems_readers/hdf5_reader.html)."
      ]
    },
    {
      "cell_type": "code",
      "execution_count": 4,
      "metadata": {
        "id": "MxbTwW74kwrN"
      },
      "outputs": [],
      "source": [
        "reader = ExtxyzReader(\n",
        "    ExtxyzReader.Config(\n",
        "        train_dataset_paths=\"data/train.xyz\",\n",
        "        valid_dataset_paths=\"data/validation.xyz\")\n",
        ")"
      ]
    },
    {
      "cell_type": "markdown",
      "metadata": {
        "id": "PkLW_jW2xS1t"
      },
      "source": [
        "2. **We process these [`ChemicalSystem`](https://instadeepai.github.io/mlip/api_reference/data/chemical_system.html) objects into graphs.** This process uses the class [`GraphDatasetBuilder`](https://instadeepai.github.io/mlip/api_reference/data/graph_dataset_builder.html) which offers some degree of customisation through its [config class](https://instadeepai.github.io/mlip/api_reference/data/dataset_configs.html#mlip.data.configs.GraphDatasetBuilderConfig).\n",
        "\n"
      ]
    },
    {
      "cell_type": "code",
      "execution_count": 5,
      "metadata": {
        "colab": {
          "base_uri": "https://localhost:8080/"
        },
        "id": "dAV2wyZGlU15",
        "outputId": "d474216b-b6aa-4054-a1ea-4803563a15ba"
      },
      "outputs": [
        {
          "output_type": "stream",
          "name": "stderr",
          "text": [
            "--2025-07-09 00:31:52--  https://raw.githubusercontent.com/BioGeek/hackathon_IndabaX_2025_mlip/refs/heads/main/data/test_public.xyz\n",
            "Resolving raw.githubusercontent.com (raw.githubusercontent.com)... 185.199.108.133, 185.199.109.133, 185.199.110.133, ...\n",
            "Connecting to raw.githubusercontent.com (raw.githubusercontent.com)|185.199.108.133|:443... connected.\n",
            "HTTP request sent, awaiting response... 200 OK\n",
            "Length: 389600 (380K) [text/plain]\n",
            "Saving to: ‘data/test_public.xyz’\n",
            "\n",
            "     0K .......... .......... .......... .......... .......... 13% 3.55M 0s\n",
            "    50K .......... .......... .......... .......... .......... 26% 23.3M 0s\n",
            "   100K .......... .......... .......... .......... .......... 39% 8.64M 0s\n",
            "   150K .......... .......... .......... .......... .......... 52% 41.9M 0s\n",
            "   200K .......... .......... .......... .......... .......... 65% 31.3M 0s\n",
            "   250K .......... .......... .......... .......... .......... 78% 11.3M 0s\n",
            "   300K .......... .......... .......... .......... .......... 91% 51.4M 0s\n",
            "   350K .......... .......... ..........                      100%  256M=0.03s\n",
            "\n",
            "2025-07-09 00:31:52 (12.5 MB/s) - ‘data/test_public.xyz’ saved [389600/389600]\n",
            "\n",
            "--2025-07-09 00:31:52--  https://raw.githubusercontent.com/BioGeek/hackathon_IndabaX_2025_mlip/refs/heads/main/data/train.xyz\n",
            "Resolving raw.githubusercontent.com (raw.githubusercontent.com)... 185.199.111.133, 185.199.108.133, 185.199.110.133, ...\n",
            "Connecting to raw.githubusercontent.com (raw.githubusercontent.com)|185.199.111.133|:443... connected.\n",
            "HTTP request sent, awaiting response... 200 OK\n",
            "Length: 1504880 (1.4M) [text/plain]\n",
            "Saving to: ‘data/train.xyz’\n",
            "\n",
            "     0K .......... .......... .......... .......... ..........  3% 4.43M 0s\n",
            "    50K .......... .......... .......... .......... ..........  6% 30.5M 0s\n",
            "   100K .......... .......... .......... .......... .......... 10% 11.6M 0s\n",
            "   150K .......... .......... .......... .......... .......... 13% 43.1M 0s\n",
            "   200K .......... .......... .......... .......... .......... 17% 52.6M 0s\n",
            "   250K .......... .......... .......... .......... .......... 20% 76.6M 0s\n",
            "   300K .......... .......... .......... .......... .......... 23% 13.9M 0s\n",
            "   350K .......... .......... .......... .......... .......... 27% 68.2M 0s\n",
            "   400K .......... .......... .......... .......... .......... 30% 66.3M 0s\n",
            "   450K .......... .......... .......... .......... .......... 34%  204M 0s\n",
            "   500K .......... .......... .......... .......... .......... 37%  194M 0s\n",
            "   550K .......... .......... .......... .......... .......... 40% 86.4M 0s\n",
            "   600K .......... .......... .......... .......... .......... 44% 16.2M 0s\n",
            "   650K .......... .......... .......... .......... .......... 47%  159M 0s\n",
            "   700K .......... .......... .......... .......... .......... 51%  304M 0s\n",
            "   750K .......... .......... .......... .......... .......... 54%  125M 0s\n",
            "   800K .......... .......... .......... .......... .......... 57%  159M 0s\n",
            "   850K .......... .......... .......... .......... .......... 61% 81.1M 0s\n",
            "   900K .......... .......... .......... .......... .......... 64%  159M 0s\n",
            "   950K .......... .......... .......... .......... .......... 68%  216M 0s\n",
            "  1000K .......... .......... .......... .......... .......... 71%  239M 0s\n",
            "  1050K .......... .......... .......... .......... .......... 74%  196M 0s\n",
            "  1100K .......... .......... .......... .......... .......... 78%  206M 0s\n",
            "  1150K .......... .......... .......... .......... .......... 81%  191M 0s\n",
            "  1200K .......... .......... .......... .......... .......... 85%  305M 0s\n",
            "  1250K .......... .......... .......... .......... .......... 88% 29.2M 0s\n",
            "  1300K .......... .......... .......... .......... .......... 91% 54.0M 0s\n",
            "  1350K .......... .......... .......... .......... .......... 95%  231M 0s\n",
            "  1400K .......... .......... .......... .......... .......... 98%  310M 0s\n",
            "  1450K .......... .........                                  100%  332M=0.03s\n",
            "\n",
            "2025-07-09 00:31:52 (41.0 MB/s) - ‘data/train.xyz’ saved [1504880/1504880]\n",
            "\n",
            "--2025-07-09 00:31:52--  https://raw.githubusercontent.com/BioGeek/hackathon_IndabaX_2025_mlip/refs/heads/main/data/validation.xyz\n",
            "Resolving raw.githubusercontent.com (raw.githubusercontent.com)... 185.199.108.133, 185.199.109.133, 185.199.110.133, ...\n",
            "Connecting to raw.githubusercontent.com (raw.githubusercontent.com)|185.199.108.133|:443... connected.\n",
            "HTTP request sent, awaiting response... 200 OK\n",
            "Length: 299961 (293K) [text/plain]\n",
            "Saving to: ‘data/validation.xyz’\n",
            "\n",
            "     0K .......... .......... .......... .......... .......... 17% 4.85M 0s\n",
            "    50K .......... .......... .......... .......... .......... 34% 6.29M 0s\n",
            "   100K .......... .......... .......... .......... .......... 51% 8.51M 0s\n",
            "   150K .......... .......... .......... .......... .......... 68% 34.6M 0s\n",
            "   200K .......... .......... .......... .......... .......... 85% 33.9M 0s\n",
            "   250K .......... .......... .......... .......... ..        100% 52.4M=0.03s\n",
            "\n",
            "2025-07-09 00:31:52 (10.5 MB/s) - ‘data/validation.xyz’ saved [299961/299961]\n",
            "\n"
          ]
        }
      ],
      "source": [
        "%%bash\n",
        "mkdir -p data\n",
        "\n",
        "[ -f data/test_public.xyz ] || wget -P data https://raw.githubusercontent.com/BioGeek/hackathon_IndabaX_2025_mlip/refs/heads/main/data/test_public.xyz\n",
        "[ -f data/train.xyz ] || wget -P data https://raw.githubusercontent.com/BioGeek/hackathon_IndabaX_2025_mlip/refs/heads/main/data/train.xyz\n",
        "[ -f data/validation.xyz ] || wget -P data https://raw.githubusercontent.com/BioGeek/hackathon_IndabaX_2025_mlip/refs/heads/main/data/validation.xyz"
      ]
    },
    {
      "cell_type": "code",
      "execution_count": 6,
      "metadata": {
        "colab": {
          "base_uri": "https://localhost:8080/",
          "height": 336,
          "referenced_widgets": [
            "d7314468f0e843bb83741c88a6b737a7",
            "08d3e165bf62486a9eb6c445a1573e8d",
            "7b210d3e43544ee8933dfd5cbc2e8c39",
            "57e14e014631431b9ebc3fe26dc49b0e",
            "cf6659e747c84233985f6c6cde1ff055",
            "3a54a7ad10194587b65ec3e0f7dddce0",
            "84dd856d05ed4f049430ac0dc310ac99",
            "d845a049e8734cfc8b7d11f8033f4bfd",
            "8ffb35a5d59b451ca78b4409c91f5c9e",
            "ab35c3a8be634e538e0dffa746c09292",
            "c91323badffe4952ae9179b233c40a52",
            "45c66254d95b4cdda73b430c5c54efc0",
            "256f84e86a3c4a3ab8cce036f9feeb27",
            "a55ca68dba6d45a08851cd39255cdc64",
            "3ff43a821b7e40a6aafdeafbb0eebc76",
            "e1fa96bdb1dd4b9b8c8291ac06dbc2af",
            "3148cf609a1944ac8ef799d68af0a395",
            "1c79c5de8a0844789358655d47561ab0",
            "c0f562479d754c5693db69907dc0ef33",
            "9654e3e4076349079a6966707c1e0ed9",
            "b25ddcfbfd454a158cc8d53271fbcc0f",
            "49ca2efaf6ff4a02b9ce54a61bd5870e",
            "0ef5aa42a3f74482a5f941554073a42a",
            "5116ff23be034713aa6c02c59e5594d5",
            "2444bd4d5897431c9e72d152ee65e689",
            "a1a51120ca4f48d7bb042e3180e9b66f",
            "24b72bf9a27744e38bc2e7a75df07a14",
            "e89bb7b3f28c46d1aef98483513d8367",
            "b7e3213c35ec4481b490cbab35f235d3",
            "b8d867b55df74a76904ebf6aa478976e",
            "d7a1083bc00a43229646b051d59ddcc9",
            "09577baea0894907a7e0b9caec35c66a",
            "a395bfb359d24d2a82747983dbfc4db3",
            "7c9cb7aa602544dfbbdeb9bb59c03454",
            "b9c4b91f20cc4cf39756f4accbeb3e2e",
            "7131fbce4c6f491db3cd81d0cc7db6d3",
            "2ecacdf3bd604b1098085acc113f2546",
            "4dac3bd415604beca6e6990cd999dc27",
            "fbddbd5e08484bd990de4eb7eb0383e4",
            "54b6d37c5ccc4f52bafaf8f49bab50fe",
            "439952698a65466ba097e79831b1cfa5",
            "6b466591eb684a12bf75108359ee12af",
            "908459e7c56640a7bbb34ad4e45581b9",
            "307c5b5c5d2742bd8329bbcf3f67abfe"
          ]
        },
        "id": "tXjGxXwul4kT",
        "outputId": "898bfc13-1ca0-4ac4-f9cd-4bda12ae0978"
      },
      "outputs": [
        {
          "output_type": "display_data",
          "data": {
            "text/plain": [
              "Graph creation:   0%|          | 0/500 [00:00<?, ?it/s]"
            ],
            "application/vnd.jupyter.widget-view+json": {
              "version_major": 2,
              "version_minor": 0,
              "model_id": "d7314468f0e843bb83741c88a6b737a7"
            }
          },
          "metadata": {}
        },
        {
          "output_type": "display_data",
          "data": {
            "text/plain": [
              "valid graph creation:   0%|          | 0/100 [00:00<?, ?it/s]"
            ],
            "application/vnd.jupyter.widget-view+json": {
              "version_major": 2,
              "version_minor": 0,
              "model_id": "45c66254d95b4cdda73b430c5c54efc0"
            }
          },
          "metadata": {}
        },
        {
          "output_type": "display_data",
          "data": {
            "text/plain": [
              "test graph creation: 0it [00:00, ?it/s]"
            ],
            "application/vnd.jupyter.widget-view+json": {
              "version_major": 2,
              "version_minor": 0,
              "model_id": "0ef5aa42a3f74482a5f941554073a42a"
            }
          },
          "metadata": {}
        },
        {
          "output_type": "stream",
          "name": "stderr",
          "text": [
            "INFO - Starting to compute mandatory dataset statistics: this may take some time...\n"
          ]
        },
        {
          "output_type": "display_data",
          "data": {
            "text/plain": [
              "Average number of neighbors computation:   0%|          | 0/500 [00:00<?, ?it/s]"
            ],
            "application/vnd.jupyter.widget-view+json": {
              "version_major": 2,
              "version_minor": 0,
              "model_id": "7c9cb7aa602544dfbbdeb9bb59c03454"
            }
          },
          "metadata": {}
        },
        {
          "output_type": "stream",
          "name": "stderr",
          "text": [
            "INFO - Processed 10% of data\n",
            "INFO - Processed 20% of data\n",
            "INFO - Processed 30% of data\n",
            "INFO - Processed 40% of data\n",
            "INFO - Processed 50% of data\n",
            "INFO - Processed 60% of data\n",
            "INFO - Processed 70% of data\n",
            "INFO - Processed 80% of data\n",
            "INFO - Processed 90% of data\n",
            "INFO - Processed 100% of data\n"
          ]
        }
      ],
      "source": [
        "builder_config = GraphDatasetBuilder.Config(\n",
        "    graph_cutoff_angstrom=5.0,\n",
        "    batch_size=16,\n",
        ")\n",
        "\n",
        "builder = GraphDatasetBuilder(reader, builder_config)\n",
        "builder.prepare_datasets() # This step is required to compute all dataset information (used later on by most MLIP model)\n",
        "\n",
        "train_set, validation_set, _ = builder.get_splits()"
      ]
    },
    {
      "cell_type": "markdown",
      "metadata": {
        "id": "DHq_F75zxb-D"
      },
      "source": [
        "More information can be found in the [deep-dive on data processing](https://instadeepai.github.io/mlip/user_guide/data_processing.html)  in our documentation for more details.\n",
        "\n",
        "We can now **print some statistics about our dataset** along with the [`DatasetInfo`](https://instadeepai.github.io/mlip/api_reference/data/dataset_info.html) object that will be required for downstream tasks. The **dataset info** holds all the hyperparameters of the models that are directly derived from the dataset or its processing, e.g., the cutoff distance to determine the graph edges."
      ]
    },
    {
      "cell_type": "code",
      "execution_count": 8,
      "metadata": {
        "id": "d6cER4-oroyQ",
        "colab": {
          "base_uri": "https://localhost:8080/"
        },
        "outputId": "091c3fc1-309e-43ab-fd11-1f254c74ffc1"
      },
      "outputs": [
        {
          "output_type": "stream",
          "name": "stdout",
          "text": [
            "Dataset info: Atomic Energies: {'H': -723.2941604798493, 'C': -723.2941604798525, 'N': -120.54902674664157, 'O': -60.27451337332064}, Avg. num. neighbors: 16.72, Avg. r_min: 1.00, Graph cutoff distance: 5.0\n",
            "Number of batches in train set: 32\n",
            "Number of batches in validation set: 7\n"
          ]
        }
      ],
      "source": [
        "print(\"Dataset info:\", builder.dataset_info)\n",
        "print(\"Number of batches in train set:\", len(train_set))\n",
        "print(\"Number of batches in validation set:\", len(validation_set))"
      ]
    },
    {
      "cell_type": "markdown",
      "metadata": {
        "id": "OGTiyZ1IlU15"
      },
      "source": [
        "The atomic energies and forces are stored in the `energy` and `forces` attributes of the [`ChemicalSystem`](https://instadeepai.github.io/mlip/api_reference/data/chemical_system.html) objects, respectively. The energies are in [eV](https://en.wikipedia.org/wiki/Electronvolt), and the forces are in eV/[Å](https://en.wikipedia.org/wiki/Angstrom)."
      ]
    },
    {
      "cell_type": "markdown",
      "metadata": {
        "id": "Ts8Pv7Aqo0wp"
      },
      "source": [
        "## 2. Preparing a training loop"
      ]
    },
    {
      "cell_type": "markdown",
      "metadata": {
        "id": "I5_9_VPfxmIr"
      },
      "source": [
        "To start training, we first need to prepare some prerequisites. These are, as for all ML models:\n",
        "- A **model architecture**,\n",
        "- An **optimizer**, and\n",
        "- A **loss function**\n",
        "\n",
        "We start with the **model architecture**:\n",
        "\n",
        "We can use one of the pre-defined models in the *mlip* library, such as MACE, NequIP, or ViSNet. These models are designed to handle molecular graphs and can be configured with various hyperparameters.\n",
        "\n",
        "For this tutorial, we provide the initialization code for MACE, NequIP and ViSnet, but commented out two of them. For all the hyperparameters available, see the documentations of the [MACE config](https://instadeepai.github.io/mlip/api_reference/models/mace.html#mlip.models.mace.config.MaceConfig), the [NequIP config](https://instadeepai.github.io/mlip/api_reference/models/nequip.html#mlip.models.nequip.config.NequipConfig), and the [ViSNet config](https://instadeepai.github.io/mlip/api_reference/models/visnet.html#mlip.models.visnet.config.VisnetConfig).\n",
        "\n",
        "The model creation process includes two steps:\n",
        "* 1: the creation of the MLIP network and\n",
        "* 2:the creation  of the force field.\n",
        "\n",
        "See our [deep-dive on models](https://instadeepai.github.io/mlip/user_guide/models.html) for a detailed explanation of this pattern.\n",
        "\n",
        "**Hint**: try some of the other pre-defined models by uncommenting the lines below and running the cell again. You can also try to change some of the hyperparameters in the config classes, e.g., the number of layers or channels"
      ]
    },
    {
      "cell_type": "code",
      "execution_count": 9,
      "metadata": {
        "id": "Q4VU3zb6o1_9",
        "colab": {
          "base_uri": "https://localhost:8080/"
        },
        "outputId": "e45be1fe-1a96-4ab3-dc93-861a254f618f"
      },
      "outputs": [
        {
          "output_type": "execute_result",
          "data": {
            "text/plain": [
              "Mace(\n",
              "    # attributes\n",
              "    config = MaceConfig(num_layers=2, num_channels=16, l_max=3, node_symmetry=None, correlation=2, readout_irreps=('16x0e', '0e'), num_readout_heads=1, include_pseudotensors=False, num_bessel=8, activation=<Activation.SILU: 'silu'>, radial_envelope=<RadialEnvelope.POLYNOMIAL: 'polynomial_envelope'>, symmetric_tensor_product_basis=False, atomic_energies=None, avg_num_neighbors=None, avg_r_min=None, num_species=None)\n",
              "    dataset_info = DatasetInfo(atomic_energies_map={1: -723.2941604798493, 6: -723.2941604798525, 7: -120.54902674664157, 8: -60.27451337332064}, cutoff_distance_angstrom=5.0, avg_num_neighbors=16.717037037037038, avg_r_min_angstrom=0.9992400407791138, scaling_mean=0.0, scaling_stdev=1.0)\n",
              ")"
            ]
          },
          "metadata": {},
          "execution_count": 9
        }
      ],
      "source": [
        "# We override some of the default hyperparameters\n",
        "# of the model to make it smaller such that this training example becomes more minimal\n",
        "mlip_network = Mace(\n",
        "    Mace.Config(num_channels=16, correlation=2),\n",
        "    builder.dataset_info,\n",
        ")\n",
        "\n",
        "# mlip_network = Nequip(\n",
        "#     Nequip.Config(\n",
        "#         node_irreps=\"4x0e + 4x0o + 4x1o + 4x1e + 4x2e + 4x2o\",\n",
        "#         num_layers=2,\n",
        "#     ),\n",
        "#     builder.dataset_info,\n",
        "# )\n",
        "\n",
        "# mlip_network = Visnet(\n",
        "#     Visnet.Config(num_channels=16, num_layers=2),\n",
        "#     builder.dataset_info,\n",
        "# )\n",
        "\n",
        "mlip_network"
      ]
    },
    {
      "cell_type": "markdown",
      "metadata": {
        "id": "KZPgyPdplU16"
      },
      "source": [
        "The force field will be the essential object required for the training below, as well as for running MD simulations."
      ]
    },
    {
      "cell_type": "code",
      "execution_count": 10,
      "metadata": {
        "id": "VJmZ6EmzlU16"
      },
      "outputs": [],
      "source": [
        "force_field = ForceField.from_mlip_network(mlip_network)"
      ]
    },
    {
      "cell_type": "markdown",
      "metadata": {
        "id": "zj6OHwN3x3uu"
      },
      "source": [
        "Next, we **create an optimizer**:\n",
        "\n",
        "The *mlip* library is set up so that you can use any [`optax`](https://github.com/google-deepmind/optax) optimizer you like, here we've chosen for [`optax.adam`](https://optax.readthedocs.io/en/latest/api/optimizers.html#optax.adam).\n",
        "\n",
        "**Hint:** Also try an optimizer specialized for MLIP models (see [this](https://instadeepai.github.io/mlip/api_reference/training/optimizer.html#mlip.training.optimizer.get_default_mlip_optimizer) part of the documentation for more details)."
      ]
    },
    {
      "cell_type": "code",
      "execution_count": 13,
      "metadata": {
        "id": "_PRdkIPopJc4",
        "colab": {
          "base_uri": "https://localhost:8080/"
        },
        "outputId": "2fa17ca1-0e9f-495c-a656-5d03435d186c"
      },
      "outputs": [
        {
          "output_type": "execute_result",
          "data": {
            "text/plain": [
              "GradientTransformationExtraArgs(init=<function chain.<locals>.init_fn at 0x7f75a2df8cc0>, update=<function chain.<locals>.update_fn at 0x7f75a2dfaca0>)"
            ]
          },
          "metadata": {},
          "execution_count": 13
        }
      ],
      "source": [
        "optimizer = optax.adam(learning_rate=1e-3)\n",
        "optimizer"
      ]
    },
    {
      "cell_type": "markdown",
      "metadata": {
        "id": "47NWAw7uyL3D"
      },
      "source": [
        "For the **loss**:\n",
        "\n",
        "We use a Mean-Squared-Error (MSE) loss, that by default uses a weighting factor of 25.0 for MSE of forces, 1.0 for MSE of energies, and zero for MSE of stress (which is not available in this dataset). See [this](https://instadeepai.github.io/mlip/user_guide/training.html#loss) part of the documentation for more information on further options such as alternative loss functions and how to create a weight flip schedule between energy and forces."
      ]
    },
    {
      "cell_type": "code",
      "execution_count": 14,
      "metadata": {
        "id": "Cj4d_ZoopJa6"
      },
      "outputs": [],
      "source": [
        "loss = MSELoss()"
      ]
    },
    {
      "cell_type": "markdown",
      "metadata": {
        "id": "I7qOM_vSlU16"
      },
      "source": [
        "We can now set up a **custom I/O handler** with checkpointing for training:\n",
        "\n",
        "The I/O handler class is documented [here](https://instadeepai.github.io/mlip/api_reference/training/training_io_handling.html). Also check out [this](https://instadeepai.github.io/mlip/user_guide/training.html#io-handling-and-logging) part in our deep-dive on logging for more information. The code below adds a local directory for checkpointing to the I/O handler, which activates checkpointing during training."
      ]
    },
    {
      "cell_type": "code",
      "execution_count": 15,
      "metadata": {
        "colab": {
          "base_uri": "https://localhost:8080/"
        },
        "id": "zoaaXD7NlU16",
        "outputId": "a7bbfd6b-48e0-404e-f2b5-14e99e225a2c"
      },
      "outputs": [
        {
          "output_type": "stream",
          "name": "stderr",
          "text": [
            "INFO - Cleaning up existing temporary directories at /content/training/model_training/model.\n"
          ]
        }
      ],
      "source": [
        "io_handler = TrainingIOHandler(\n",
        "    TrainingIOHandler.Config(\n",
        "        local_model_output_dir=\"training/model_training\"\n",
        "    )\n",
        ")"
      ]
    },
    {
      "cell_type": "markdown",
      "metadata": {
        "id": "HVptSCsulU16"
      },
      "source": [
        "Next, we can **attach logging functions to the I/O handler**:\n",
        "\n",
        "Users can attached as many logging functions as required to the I/O handler. In this example, we attach two.\n",
        "1. The [`log_metrics_to_line`](https://instadeepai.github.io/mlip/api_reference/training/training_io_handling.html#mlip.training.training_loggers.log_metrics_to_line) function that is also included in the default I/O handler that we used in the previous example.\n",
        "2. A custom function that just keeps track of the validation set losses, so we can later easily create a curve from it."
      ]
    },
    {
      "cell_type": "code",
      "execution_count": 16,
      "metadata": {
        "id": "OvGu40RYlU16"
      },
      "outputs": [],
      "source": [
        "# The following logger is also attached in the default I/O handler\n",
        "# that was used in the training above\n",
        "io_handler.attach_logger(log_metrics_to_line)\n",
        "\n",
        "# Define a custom logging function that keeps track of validation loss\n",
        "validation_losses = []\n",
        "def _custom_logger(category, to_log, epoch_number):\n",
        "  if category == LogCategory.EVAL_METRICS:\n",
        "    validation_losses.append(to_log[\"loss\"])\n",
        "\n",
        "# Attach our custom logging function to the I/O handler\n",
        "io_handler.attach_logger(_custom_logger)"
      ]
    },
    {
      "cell_type": "markdown",
      "metadata": {
        "id": "zskGftVJlU16"
      },
      "source": [
        "The custom logging function is called several times during the training loop with the argument `category` (e.g. `TRAIN_METRICS`, `EVAL_METRICS`) telling the function what is currently being logged, for example, train or evaluation metrics. It is of enum type [`LogCategory`](https://instadeepai.github.io/mlip/api_reference/training/training_io_handling.html#mlip.training.training_io_handler.LogCategory). See the documentation of the built-in function [`log_metrics_to_line`](https://instadeepai.github.io/mlip/api_reference/training/training_io_handling.html#mlip.training.training_loggers.log_metrics_to_line) for what we expect the logging function's signature to be."
      ]
    },
    {
      "cell_type": "markdown",
      "metadata": {
        "id": "3zjiQX3d3EsK"
      },
      "source": [
        "Finally, we can **create our training loop**:\n",
        "\n",
        "At a minimum, it needs as input:\n",
        "- a training dataset\n",
        "- a validation dataset\n",
        "- a force field\n",
        "- a loss\n",
        "- an optimizer\n",
        "- a config (which specifies for instace the number of epochs)\n",
        "\n",
        "Note that the config is documented [here](https://instadeepai.github.io/mlip/api_reference/training/training_loop_config.html). Its only argument that lacks a default value is the number of epochs to train for."
      ]
    },
    {
      "cell_type": "code",
      "execution_count": 17,
      "metadata": {
        "id": "nyNXJW6SurAD",
        "scrolled": true,
        "colab": {
          "base_uri": "https://localhost:8080/"
        },
        "outputId": "a70d34d0-c293-4c46-a36e-4416713865fc"
      },
      "outputs": [
        {
          "output_type": "stream",
          "name": "stderr",
          "text": [
            "INFO - Number of parameters: 62048\n",
            "INFO - Number of parameters in optimizer: 124097\n"
          ]
        }
      ],
      "source": [
        "training_config = TrainingLoop.Config(num_epochs=10)\n",
        "\n",
        "training_loop = TrainingLoop(\n",
        "    train_dataset=train_set,\n",
        "    validation_dataset=validation_set,\n",
        "    force_field=force_field,\n",
        "    loss=loss,\n",
        "    optimizer=optimizer,\n",
        "    config=training_config,\n",
        "    io_handler=io_handler,\n",
        ")"
      ]
    },
    {
      "cell_type": "markdown",
      "metadata": {
        "id": "ecbtfdFa8iJc"
      },
      "source": [
        "## 3. Running a training loop"
      ]
    },
    {
      "cell_type": "markdown",
      "metadata": {
        "id": "wTre9bQD3IbJ"
      },
      "source": [
        "**Running the loop**:\n",
        "\n",
        "The following box runs the prepared training loop. Note that training will be a **lot more efficient for GPU users** (depending on the GPU, one should expect ~1s to ~12s per epoch, once the code is compiled) - for CPU users our measures ranged from ~12s to ~100s per epoch."
      ]
    },
    {
      "cell_type": "code",
      "execution_count": 18,
      "metadata": {
        "colab": {
          "base_uri": "https://localhost:8080/"
        },
        "id": "Eef9QrDPvJs7",
        "outputId": "e6a67401-476f-497e-c029-4e8edfa444e7"
      },
      "outputs": [
        {
          "output_type": "stream",
          "name": "stderr",
          "text": [
            "INFO - Starting training loop...\n",
            "INFO - Validation: Loss = 90.225 | Mae e = 3.359 | Mae f = 1.416 | Rmse e = 3.420 | Rmse f = 1.900\n",
            "INFO - Best model: Loss = 90.225 | Best epoch = 0\n",
            "INFO - ------------ Epoch 1 ------------\n",
            "INFO - Training:   Loss = 18.925 | Gradient norm = 4.918 | Param update norm = 0.202 | Runtime in seconds = 20.891\n",
            "INFO - Validation: Loss = 74.647 | Mae e = 4.523 | Mae f = 1.284 | Rmse e = 4.565 | Rmse f = 1.728\n",
            "INFO - Saving checkpoint at epoch 1...\n",
            "INFO - Commit thread error check finished successfully\n",
            "INFO - Async saving item to /content/training/model_training/model/1.\n",
            "INFO - Starting commit to storage layer by process: 0\n",
            "INFO - Beginning async checkpoint finalize.\n",
            "INFO - Best model: Loss = 74.647 | Best epoch = 1\n",
            "INFO - Finished committing to storage layer by process: 0\n",
            "INFO - Renaming /content/training/model_training/model/1.orbax-checkpoint-tmp-1752021682880250 to /content/training/model_training/model/1\n",
            "INFO - Finished saving checkpoint to `/content/training/model_training/model/1`.\n",
            "INFO - Commit thread joined successfully\n",
            "INFO - Commit thread error check finished successfully\n",
            "INFO - ------------ Epoch 2 ------------\n",
            "INFO - Training:   Loss = 9.535 | Gradient norm = 3.950 | Param update norm = 0.211 | Runtime in seconds = 1.321\n",
            "INFO - Validation: Loss = 57.223 | Mae e = 6.011 | Mae f = 1.109 | Rmse e = 6.038 | Rmse f = 1.512\n",
            "INFO - Saving checkpoint at epoch 2...\n",
            "INFO - Commit thread error check finished successfully\n",
            "INFO - Async saving item to /content/training/model_training/model/2.\n",
            "INFO - Starting commit to storage layer by process: 0\n",
            "INFO - Beginning async checkpoint finalize.\n",
            "INFO - Best model: Loss = 57.223 | Best epoch = 2\n",
            "INFO - Finished committing to storage layer by process: 0\n",
            "INFO - Renaming /content/training/model_training/model/2.orbax-checkpoint-tmp-1752021684780167 to /content/training/model_training/model/2\n",
            "INFO - Finished saving checkpoint to `/content/training/model_training/model/2`.\n",
            "INFO - Commit thread joined successfully\n",
            "INFO - Commit thread error check finished successfully\n",
            "INFO - ------------ Epoch 3 ------------\n",
            "INFO - Training:   Loss = 5.892 | Gradient norm = 2.640 | Param update norm = 0.162 | Runtime in seconds = 1.321\n",
            "INFO - Validation: Loss = 45.380 | Mae e = 7.200 | Mae f = 0.973 | Rmse e = 7.220 | Rmse f = 1.346\n",
            "INFO - Saving checkpoint at epoch 3...\n",
            "INFO - Commit thread error check finished successfully\n",
            "INFO - Async saving item to /content/training/model_training/model/3.\n",
            "INFO - Starting commit to storage layer by process: 0\n",
            "INFO - Beginning async checkpoint finalize.\n",
            "INFO - Best model: Loss = 45.380 | Best epoch = 3\n",
            "INFO - Finished committing to storage layer by process: 0\n",
            "INFO - Renaming /content/training/model_training/model/3.orbax-checkpoint-tmp-1752021686656493 to /content/training/model_training/model/3\n",
            "INFO - Finished saving checkpoint to `/content/training/model_training/model/3`.\n",
            "INFO - Commit thread joined successfully\n",
            "INFO - Commit thread error check finished successfully\n",
            "INFO - ------------ Epoch 4 ------------\n",
            "INFO - Training:   Loss = 4.210 | Gradient norm = 2.926 | Param update norm = 0.138 | Runtime in seconds = 1.390\n",
            "INFO - Validation: Loss = 37.170 | Mae e = 7.836 | Mae f = 0.872 | Rmse e = 7.852 | Rmse f = 1.218\n",
            "INFO - Saving checkpoint at epoch 4...\n",
            "INFO - Commit thread error check finished successfully\n",
            "INFO - Async saving item to /content/training/model_training/model/4.\n",
            "INFO - Starting commit to storage layer by process: 0\n",
            "INFO - Beginning async checkpoint finalize.\n",
            "INFO - Best model: Loss = 37.170 | Best epoch = 4\n",
            "INFO - Finished committing to storage layer by process: 0\n",
            "INFO - Renaming /content/training/model_training/model/4.orbax-checkpoint-tmp-1752021688658405 to /content/training/model_training/model/4\n",
            "INFO - Finished saving checkpoint to `/content/training/model_training/model/4`.\n",
            "INFO - Commit thread joined successfully\n",
            "INFO - Commit thread error check finished successfully\n",
            "INFO - ------------ Epoch 5 ------------\n",
            "INFO - Training:   Loss = 3.207 | Gradient norm = 2.906 | Param update norm = 0.128 | Runtime in seconds = 1.315\n",
            "INFO - Validation: Loss = 30.788 | Mae e = 8.125 | Mae f = 0.789 | Rmse e = 8.139 | Rmse f = 1.108\n",
            "INFO - Saving checkpoint at epoch 5...\n",
            "INFO - Commit thread error check finished successfully\n",
            "INFO - Async saving item to /content/training/model_training/model/5.\n",
            "INFO - Starting commit to storage layer by process: 0\n",
            "INFO - Beginning async checkpoint finalize.\n",
            "INFO - Best model: Loss = 30.788 | Best epoch = 5\n",
            "INFO - Finished committing to storage layer by process: 0\n",
            "INFO - Renaming /content/training/model_training/model/5.orbax-checkpoint-tmp-1752021690576519 to /content/training/model_training/model/5\n",
            "INFO - Finished saving checkpoint to `/content/training/model_training/model/5`.\n",
            "INFO - Commit thread joined successfully\n",
            "INFO - Commit thread error check finished successfully\n",
            "INFO - ------------ Epoch 6 ------------\n",
            "INFO - Training:   Loss = 2.488 | Gradient norm = 3.147 | Param update norm = 0.116 | Runtime in seconds = 1.324\n",
            "INFO - Validation: Loss = 25.792 | Mae e = 7.994 | Mae f = 0.717 | Rmse e = 8.007 | Rmse f = 1.014\n",
            "INFO - Saving checkpoint at epoch 6...\n",
            "INFO - Commit thread error check finished successfully\n",
            "INFO - Async saving item to /content/training/model_training/model/6.\n",
            "INFO - Starting commit to storage layer by process: 0\n",
            "INFO - Finished committing to storage layer by process: 0\n",
            "INFO - Deleting Checkpoint[step=1 | time=2025-07-09 00:41:23.256646+00:00]: (Reason: old checkpoint).\n",
            "INFO - Beginning async checkpoint finalize.\n",
            "INFO - Best model: Loss = 25.792 | Best epoch = 6\n",
            "INFO - Renaming /content/training/model_training/model/6.orbax-checkpoint-tmp-1752021692469847 to /content/training/model_training/model/6\n",
            "INFO - Finished saving checkpoint to `/content/training/model_training/model/6`.\n",
            "INFO - Commit thread joined successfully\n",
            "INFO - Commit thread error check finished successfully\n",
            "INFO - Deleted step 1.\n",
            "INFO - ------------ Epoch 7 ------------\n",
            "INFO - Training:   Loss = 1.989 | Gradient norm = 4.528 | Param update norm = 0.099 | Runtime in seconds = 1.313\n",
            "INFO - Validation: Loss = 21.804 | Mae e = 7.473 | Mae f = 0.655 | Rmse e = 7.485 | Rmse f = 0.932\n",
            "INFO - Saving checkpoint at epoch 7...\n",
            "INFO - Commit thread error check finished successfully\n",
            "INFO - Async saving item to /content/training/model_training/model/7.\n",
            "INFO - Starting commit to storage layer by process: 0\n",
            "INFO - Deleting Checkpoint[step=2 | time=2025-07-09 00:41:25.126075+00:00]: (Reason: old checkpoint).\n",
            "INFO - Beginning async checkpoint finalize.\n",
            "INFO - Best model: Loss = 21.804 | Best epoch = 7\n",
            "INFO - Finished committing to storage layer by process: 0\n",
            "INFO - Renaming /content/training/model_training/model/7.orbax-checkpoint-tmp-1752021694338082 to /content/training/model_training/model/7\n",
            "INFO - Finished saving checkpoint to `/content/training/model_training/model/7`.\n",
            "INFO - Commit thread joined successfully\n",
            "INFO - Commit thread error check finished successfully\n",
            "INFO - Deleted step 2.\n",
            "INFO - ------------ Epoch 8 ------------\n",
            "INFO - Training:   Loss = 1.637 | Gradient norm = 3.676 | Param update norm = 0.087 | Runtime in seconds = 1.310\n",
            "INFO - Validation: Loss = 18.633 | Mae e = 6.615 | Mae f = 0.600 | Rmse e = 6.627 | Rmse f = 0.862\n",
            "INFO - Saving checkpoint at epoch 8...\n",
            "INFO - Commit thread error check finished successfully\n",
            "INFO - Async saving item to /content/training/model_training/model/8.\n",
            "INFO - Starting commit to storage layer by process: 0\n",
            "INFO - Deleting Checkpoint[step=3 | time=2025-07-09 00:41:27.019315+00:00]: (Reason: old checkpoint).\n",
            "INFO - Beginning async checkpoint finalize.\n",
            "INFO - Best model: Loss = 18.633 | Best epoch = 8\n",
            "INFO - Finished committing to storage layer by process: 0\n",
            "INFO - Renaming /content/training/model_training/model/8.orbax-checkpoint-tmp-1752021696199720 to /content/training/model_training/model/8\n",
            "INFO - Finished saving checkpoint to `/content/training/model_training/model/8`.\n",
            "INFO - Commit thread joined successfully\n",
            "INFO - Commit thread error check finished successfully\n",
            "INFO - Deleted step 3.\n",
            "INFO - ------------ Epoch 9 ------------\n",
            "INFO - Training:   Loss = 1.391 | Gradient norm = 3.377 | Param update norm = 0.075 | Runtime in seconds = 1.323\n",
            "INFO - Validation: Loss = 16.118 | Mae e = 5.623 | Mae f = 0.553 | Rmse e = 5.635 | Rmse f = 0.802\n",
            "INFO - Saving checkpoint at epoch 9...\n",
            "INFO - Commit thread error check finished successfully\n",
            "INFO - Async saving item to /content/training/model_training/model/9.\n",
            "INFO - Starting commit to storage layer by process: 0\n",
            "INFO - Deleting Checkpoint[step=4 | time=2025-07-09 00:41:29.059170+00:00]: (Reason: old checkpoint).\n",
            "INFO - Beginning async checkpoint finalize.\n",
            "INFO - Best model: Loss = 16.118 | Best epoch = 9\n",
            "INFO - Finished committing to storage layer by process: 0\n",
            "INFO - Renaming /content/training/model_training/model/9.orbax-checkpoint-tmp-1752021698082841 to /content/training/model_training/model/9\n",
            "INFO - Finished saving checkpoint to `/content/training/model_training/model/9`.\n",
            "INFO - Commit thread joined successfully\n",
            "INFO - Commit thread error check finished successfully\n",
            "INFO - Deleted step 4.\n",
            "INFO - ------------ Epoch 10 ------------\n",
            "INFO - Training:   Loss = 1.200 | Gradient norm = 2.935 | Param update norm = 0.066 | Runtime in seconds = 1.370\n",
            "INFO - Validation: Loss = 14.155 | Mae e = 4.645 | Mae f = 0.513 | Rmse e = 4.658 | Rmse f = 0.752\n",
            "INFO - Saving checkpoint at epoch 10...\n",
            "INFO - Commit thread error check finished successfully\n",
            "INFO - Async saving item to /content/training/model_training/model/10.\n",
            "INFO - Starting commit to storage layer by process: 0\n",
            "INFO - Deleting Checkpoint[step=5 | time=2025-07-09 00:41:30.934386+00:00]: (Reason: old checkpoint).\n",
            "INFO - Beginning async checkpoint finalize.\n",
            "INFO - Best model: Loss = 14.155 | Best epoch = 10\n",
            "INFO - Finished committing to storage layer by process: 0\n",
            "INFO - Renaming /content/training/model_training/model/10.orbax-checkpoint-tmp-1752021700036306 to /content/training/model_training/model/10\n",
            "INFO - Finished saving checkpoint to `/content/training/model_training/model/10`.\n",
            "INFO - Commit thread joined successfully\n",
            "INFO - Commit thread error check finished successfully\n",
            "INFO - Deleted step 5.\n",
            "INFO - Training loop completed.\n"
          ]
        }
      ],
      "source": [
        "training_loop.run()"
      ]
    },
    {
      "cell_type": "markdown",
      "metadata": {
        "id": "-Ie0uQOvlU17"
      },
      "source": [
        "We can now **access the information stored** by the custom logger saved into our validation loss list:"
      ]
    },
    {
      "cell_type": "code",
      "execution_count": 19,
      "metadata": {
        "colab": {
          "base_uri": "https://localhost:8080/"
        },
        "id": "nxi-fYGglU17",
        "outputId": "bb16f86b-8fcc-4676-e432-00b7edd5ea17"
      },
      "outputs": [
        {
          "output_type": "stream",
          "name": "stdout",
          "text": [
            "[90.22486, 74.64657, 57.223057, 45.379948, 37.17013, 30.787989, 25.791973, 21.803928, 18.63317, 16.118017, 14.15529]\n"
          ]
        }
      ],
      "source": [
        "print(validation_losses)"
      ]
    },
    {
      "cell_type": "markdown",
      "metadata": {
        "id": "dmIME-wylU17"
      },
      "source": [
        "Let's create a training curve from these values."
      ]
    },
    {
      "cell_type": "code",
      "execution_count": 20,
      "metadata": {
        "colab": {
          "base_uri": "https://localhost:8080/",
          "height": 449
        },
        "id": "GEOjLHKZlU1-",
        "outputId": "d297a208-5932-49e8-d080-ab9dba32e36d"
      },
      "outputs": [
        {
          "output_type": "display_data",
          "data": {
            "text/plain": [
              "<Figure size 640x480 with 1 Axes>"
            ],
            "image/png": "[encoded data removed]"
          },
          "metadata": {}
        }
      ],
      "source": [
        "epoch_nums = list(range(len(validation_losses)))\n",
        "plt.plot(epoch_nums, validation_losses)\n",
        "plt.xlabel(\"Epoch\")\n",
        "plt.ylabel(\"Validation loss\")\n",
        "plt.xticks(epoch_nums)\n",
        "plt.show()"
      ]
    },
    {
      "cell_type": "markdown",
      "metadata": {
        "id": "gRPpV0CBlU1-"
      },
      "source": [
        "**Recovering the best validation model**:\n",
        "\n",
        "After training has completed, the [`TrainingLoop`](https://instadeepai.github.io/mlip/api_reference/training/training_loop.html) holds all the relevant information about the run. We can obtain the force field with the best validation parameters as follows:"
      ]
    },
    {
      "cell_type": "code",
      "execution_count": 21,
      "metadata": {
        "id": "CSrWZFsZlU1_"
      },
      "outputs": [],
      "source": [
        "best_force_field = training_loop.best_model"
      ]
    },
    {
      "cell_type": "markdown",
      "metadata": {
        "id": "FWeaguhglU1_"
      },
      "source": [
        "This force field object can now be applied in, for example, MD simulations or energy minimizations.\n",
        "\n",
        "Furthermore, these checkpoints can of course also be **used to restart a training from a given checkpoint**. We refer to the [documentation of the I/O handler's config](https://instadeepai.github.io/mlip/api_reference/training/training_io_handling.html#mlip.training.training_io_handler.TrainingIOHandlerConfig) for more information on this.\n",
        "\n",
        "**Saving the model to a zip file**:\n",
        "\n",
        "We can also save the trained model in zip format. This is also the format that we provide our pre-trained models in."
      ]
    },
    {
      "cell_type": "code",
      "execution_count": 22,
      "metadata": {
        "id": "Euv-3G-mlU1_"
      },
      "outputs": [],
      "source": [
        "save_model_to_zip(\"training/my_final_model.zip\", best_force_field)"
      ]
    },
    {
      "cell_type": "markdown",
      "metadata": {
        "id": "uMlcfZUalU1_"
      },
      "source": [
        "**Loading a pre-trained model**\n",
        "\n",
        "We can also load a pre-trained model from a zip file. This is useful if you want to use a pre-trained model for inference or fine-tuning on a different dataset."
      ]
    },
    {
      "cell_type": "code",
      "execution_count": 23,
      "metadata": {
        "colab": {
          "base_uri": "https://localhost:8080/"
        },
        "id": "2lZ0VpBPlU1_",
        "outputId": "90a28a12-b788-4dc2-b6eb-a089fab9bdd5"
      },
      "outputs": [
        {
          "output_type": "stream",
          "name": "stdout",
          "text": [
            "Dataset info: Atomic Energies: {'H': -723.2941604798493, 'C': -723.2941604798525, 'N': -120.54902674664157, 'O': -60.27451337332064}, Avg. num. neighbors: 16.72, Avg. r_min: 1.00, Graph cutoff distance: 5.0\n"
          ]
        }
      ],
      "source": [
        "best_force_field = load_model_from_zip(Mace, \"training/my_final_model.zip\")\n",
        "\n",
        "print(\"Dataset info:\", best_force_field.dataset_info)"
      ]
    },
    {
      "cell_type": "markdown",
      "metadata": {
        "id": "2ZZeNap6lU1_"
      },
      "source": [
        "## Evaluation"
      ]
    },
    {
      "cell_type": "markdown",
      "metadata": {
        "id": "U14qTi5slU1_"
      },
      "source": [
        "The model will be tested on its ability to predict the energies of new conformations\n",
        "of the same molecule. However, to test the generalization\n",
        "capabilities of the model, these conformations are sampled at higher temperature,\n",
        "i.e., 1200 Kelvin. The test conformations are located in the\n",
        "`test_public.xyz` file. You can predict energies for them with a model saved in the\n",
        "zip format with the mlip library's batched inference functionality, described\n",
        "[here](https://instadeepai.github.io/mlip/user_guide/simulations.html#batched-inference)\n",
        "in the mlip documentation or explained in section 2 of\n",
        "[mlip's simulation tutorial](https://github.com/instadeepai/mlip/blob/main/tutorials/simulation_tutorial.ipynb).\n",
        "The public leaderboard contains the target energies. The metric the predictions will be scored on is root-mean-square error (RMSE).\n",
        "\n",
        "\n",
        "**Hint**: to get the best energies, you want to put higher weights on energies during training which is not the case in the default settings, where forces are more highly weighted.\n"
      ]
    },
    {
      "cell_type": "code",
      "execution_count": 24,
      "metadata": {
        "id": "dpslpHjC2r0Z"
      },
      "outputs": [],
      "source": [
        "from ase.io import read as ase_read\n",
        "\n",
        "test_data = \"data/test_public.xyz\"\n",
        "structures = ase_read(test_data, index=\":\")"
      ]
    },
    {
      "cell_type": "markdown",
      "metadata": {
        "id": "EPbZlFAflU1_"
      },
      "source": [
        "We can now run inference with a single pre-built function, note Jax starts by compiling all the required functions. It may appear slow at the beginning but this provides significant acceleration at scales (compilation is saved in the notebook kernel, so if you want an illustration of the speed gains, you can run the cell twice):"
      ]
    },
    {
      "cell_type": "code",
      "execution_count": 25,
      "metadata": {
        "colab": {
          "base_uri": "https://localhost:8080/"
        },
        "id": "p2ZMvIJllU1_",
        "outputId": "4a47e198-51c9-4edf-b255-76257e2040ed"
      },
      "outputs": [
        {
          "output_type": "stream",
          "name": "stderr",
          "text": [
            "INFO - Graphs preparation done. Now running inference on 200 structure(s) in 26 batches...\n",
            "INFO - Batch 1 completed.\n",
            "INFO - Batch 2 completed.\n",
            "INFO - Batch 3 completed.\n",
            "INFO - Batch 4 completed.\n",
            "INFO - Batch 5 completed.\n",
            "INFO - Batch 6 completed.\n",
            "INFO - Batch 7 completed.\n",
            "INFO - Batch 8 completed.\n",
            "INFO - Batch 9 completed.\n",
            "INFO - Batch 10 completed.\n",
            "INFO - Batch 11 completed.\n",
            "INFO - Batch 12 completed.\n",
            "INFO - Batch 13 completed.\n",
            "INFO - Batch 14 completed.\n",
            "INFO - Batch 15 completed.\n",
            "INFO - Batch 16 completed.\n",
            "INFO - Batch 17 completed.\n",
            "INFO - Batch 18 completed.\n",
            "INFO - Batch 19 completed.\n",
            "INFO - Batch 20 completed.\n",
            "INFO - Batch 21 completed.\n",
            "INFO - Batch 22 completed.\n",
            "INFO - Batch 23 completed.\n",
            "INFO - Batch 24 completed.\n",
            "INFO - Batch 25 completed.\n",
            "INFO - Batch 26 completed.\n"
          ]
        }
      ],
      "source": [
        "from mlip.inference import run_batched_inference\n",
        "\n",
        "predictions = run_batched_inference(structures, best_force_field, batch_size=8)"
      ]
    },
    {
      "cell_type": "markdown",
      "metadata": {
        "id": "PtxCDi26lU1_"
      },
      "source": [
        "# Get your output into submission format\n",
        "\n",
        "We need to get our outputs into their \"camera-ready\" form."
      ]
    },
    {
      "cell_type": "code",
      "execution_count": 26,
      "metadata": {
        "colab": {
          "base_uri": "https://localhost:8080/",
          "height": 424
        },
        "id": "wGNFfcb5lU1_",
        "outputId": "581b650f-c31f-477b-995c-9dffba48257a"
      },
      "outputs": [
        {
          "output_type": "execute_result",
          "data": {
            "text/plain": [
              "      ID      energies\n",
              "0      0 -17661.492188\n",
              "1      1 -17662.371094\n",
              "2      2 -17662.585938\n",
              "3      3 -17662.472656\n",
              "4      4 -17662.046875\n",
              "..   ...           ...\n",
              "195  195 -17662.775391\n",
              "196  196 -17662.494141\n",
              "197  197 -17662.074219\n",
              "198  198 -17662.070312\n",
              "199  199 -17661.230469\n",
              "\n",
              "[200 rows x 2 columns]"
            ],
            "text/html": [
              "\n",
              "  <div id=\"df-dfe27f91-6b70-44a6-b258-c99845f01ae4\" class=\"colab-df-container\">\n",
              "    <div>\n",
              "<style scoped>\n",
              "    .dataframe tbody tr th:only-of-type {\n",
              "        vertical-align: middle;\n",
              "    }\n",
              "\n",
              "    .dataframe tbody tr th {\n",
              "        vertical-align: top;\n",
              "    }\n",
              "\n",
              "    .dataframe thead th {\n",
              "        text-align: right;\n",
              "    }\n",
              "</style>\n",
              "<table border=\"1\" class=\"dataframe\">\n",
              "  <thead>\n",
              "    <tr style=\"text-align: right;\">\n",
              "      <th></th>\n",
              "      <th>ID</th>\n",
              "      <th>energies</th>\n",
              "    </tr>\n",
              "  </thead>\n",
              "  <tbody>\n",
              "    <tr>\n",
              "      <th>0</th>\n",
              "      <td>0</td>\n",
              "      <td>-17661.492188</td>\n",
              "    </tr>\n",
              "    <tr>\n",
              "      <th>1</th>\n",
              "      <td>1</td>\n",
              "      <td>-17662.371094</td>\n",
              "    </tr>\n",
              "    <tr>\n",
              "      <th>2</th>\n",
              "      <td>2</td>\n",
              "      <td>-17662.585938</td>\n",
              "    </tr>\n",
              "    <tr>\n",
              "      <th>3</th>\n",
              "      <td>3</td>\n",
              "      <td>-17662.472656</td>\n",
              "    </tr>\n",
              "    <tr>\n",
              "      <th>4</th>\n",
              "      <td>4</td>\n",
              "      <td>-17662.046875</td>\n",
              "    </tr>\n",
              "    <tr>\n",
              "      <th>...</th>\n",
              "      <td>...</td>\n",
              "      <td>...</td>\n",
              "    </tr>\n",
              "    <tr>\n",
              "      <th>195</th>\n",
              "      <td>195</td>\n",
              "      <td>-17662.775391</td>\n",
              "    </tr>\n",
              "    <tr>\n",
              "      <th>196</th>\n",
              "      <td>196</td>\n",
              "      <td>-17662.494141</td>\n",
              "    </tr>\n",
              "    <tr>\n",
              "      <th>197</th>\n",
              "      <td>197</td>\n",
              "      <td>-17662.074219</td>\n",
              "    </tr>\n",
              "    <tr>\n",
              "      <th>198</th>\n",
              "      <td>198</td>\n",
              "      <td>-17662.070312</td>\n",
              "    </tr>\n",
              "    <tr>\n",
              "      <th>199</th>\n",
              "      <td>199</td>\n",
              "      <td>-17661.230469</td>\n",
              "    </tr>\n",
              "  </tbody>\n",
              "</table>\n",
              "<p>200 rows × 2 columns</p>\n",
              "</div>\n",
              "    <div class=\"colab-df-buttons\">\n",
              "\n",
              "  <div class=\"colab-df-container\">\n",
              "    <button class=\"colab-df-convert\" onclick=\"convertToInteractive('df-dfe27f91-6b70-44a6-b258-c99845f01ae4')\"\n",
              "            title=\"Convert this dataframe to an interactive table.\"\n",
              "            style=\"display:none;\">\n",
              "\n",
              "  <svg xmlns=\"http://www.w3.org/2000/svg\" height=\"24px\" viewBox=\"0 -960 960 960\">\n",
              "    <path d=\"M120-120v-720h720v720H120Zm60-500h600v-160H180v160Zm220 220h160v-160H400v160Zm0 220h160v-160H400v160ZM180-400h160v-160H180v160Zm440 0h160v-160H620v160ZM180-180h160v-160H180v160Zm440 0h160v-160H620v160Z\"/>\n",
              "  </svg>\n",
              "    </button>\n",
              "\n",
              "  <style>\n",
              "    .colab-df-container {\n",
              "      display:flex;\n",
              "      gap: 12px;\n",
              "    }\n",
              "\n",
              "    .colab-df-convert {\n",
              "      background-color: #E8F0FE;\n",
              "      border: none;\n",
              "      border-radius: 50%;\n",
              "      cursor: pointer;\n",
              "      display: none;\n",
              "      fill: #1967D2;\n",
              "      height: 32px;\n",
              "      padding: 0 0 0 0;\n",
              "      width: 32px;\n",
              "    }\n",
              "\n",
              "    .colab-df-convert:hover {\n",
              "      background-color: #E2EBFA;\n",
              "      box-shadow: 0px 1px 2px rgba(60, 64, 67, 0.3), 0px 1px 3px 1px rgba(60, 64, 67, 0.15);\n",
              "      fill: #174EA6;\n",
              "    }\n",
              "\n",
              "    .colab-df-buttons div {\n",
              "      margin-bottom: 4px;\n",
              "    }\n",
              "\n",
              "    [theme=dark] .colab-df-convert {\n",
              "      background-color: #3B4455;\n",
              "      fill: #D2E3FC;\n",
              "    }\n",
              "\n",
              "    [theme=dark] .colab-df-convert:hover {\n",
              "      background-color: #434B5C;\n",
              "      box-shadow: 0px 1px 3px 1px rgba(0, 0, 0, 0.15);\n",
              "      filter: drop-shadow(0px 1px 2px rgba(0, 0, 0, 0.3));\n",
              "      fill: #FFFFFF;\n",
              "    }\n",
              "  </style>\n",
              "\n",
              "    <script>\n",
              "      const buttonEl =\n",
              "        document.querySelector('#df-dfe27f91-6b70-44a6-b258-c99845f01ae4 button.colab-df-convert');\n",
              "      buttonEl.style.display =\n",
              "        google.colab.kernel.accessAllowed ? 'block' : 'none';\n",
              "\n",
              "      async function convertToInteractive(key) {\n",
              "        const element = document.querySelector('#df-dfe27f91-6b70-44a6-b258-c99845f01ae4');\n",
              "        const dataTable =\n",
              "          await google.colab.kernel.invokeFunction('convertToInteractive',\n",
              "                                                    [key], {});\n",
              "        if (!dataTable) return;\n",
              "\n",
              "        const docLinkHtml = 'Like what you see? Visit the ' +\n",
              "          '<a target=\"_blank\" href=https://colab.research.google.com/notebooks/data_table.ipynb>data table notebook</a>'\n",
              "          + ' to learn more about interactive tables.';\n",
              "        element.innerHTML = '';\n",
              "        dataTable['output_type'] = 'display_data';\n",
              "        await google.colab.output.renderOutput(dataTable, element);\n",
              "        const docLink = document.createElement('div');\n",
              "        docLink.innerHTML = docLinkHtml;\n",
              "        element.appendChild(docLink);\n",
              "      }\n",
              "    </script>\n",
              "  </div>\n",
              "\n",
              "\n",
              "    <div id=\"df-afaaf108-d3f4-4734-b855-870dedd81b4c\">\n",
              "      <button class=\"colab-df-quickchart\" onclick=\"quickchart('df-afaaf108-d3f4-4734-b855-870dedd81b4c')\"\n",
              "                title=\"Suggest charts\"\n",
              "                style=\"display:none;\">\n",
              "\n",
              "<svg xmlns=\"http://www.w3.org/2000/svg\" height=\"24px\"viewBox=\"0 0 24 24\"\n",
              "     width=\"24px\">\n",
              "    <g>\n",
              "        <path d=\"M19 3H5c-1.1 0-2 .9-2 2v14c0 1.1.9 2 2 2h14c1.1 0 2-.9 2-2V5c0-1.1-.9-2-2-2zM9 17H7v-7h2v7zm4 0h-2V7h2v10zm4 0h-2v-4h2v4z\"/>\n",
              "    </g>\n",
              "</svg>\n",
              "      </button>\n",
              "\n",
              "<style>\n",
              "  .colab-df-quickchart {\n",
              "      --bg-color: #E8F0FE;\n",
              "      --fill-color: #1967D2;\n",
              "      --hover-bg-color: #E2EBFA;\n",
              "      --hover-fill-color: #174EA6;\n",
              "      --disabled-fill-color: #AAA;\n",
              "      --disabled-bg-color: #DDD;\n",
              "  }\n",
              "\n",
              "  [theme=dark] .colab-df-quickchart {\n",
              "      --bg-color: #3B4455;\n",
              "      --fill-color: #D2E3FC;\n",
              "      --hover-bg-color: #434B5C;\n",
              "      --hover-fill-color: #FFFFFF;\n",
              "      --disabled-bg-color: #3B4455;\n",
              "      --disabled-fill-color: #666;\n",
              "  }\n",
              "\n",
              "  .colab-df-quickchart {\n",
              "    background-color: var(--bg-color);\n",
              "    border: none;\n",
              "    border-radius: 50%;\n",
              "    cursor: pointer;\n",
              "    display: none;\n",
              "    fill: var(--fill-color);\n",
              "    height: 32px;\n",
              "    padding: 0;\n",
              "    width: 32px;\n",
              "  }\n",
              "\n",
              "  .colab-df-quickchart:hover {\n",
              "    background-color: var(--hover-bg-color);\n",
              "    box-shadow: 0 1px 2px rgba(60, 64, 67, 0.3), 0 1px 3px 1px rgba(60, 64, 67, 0.15);\n",
              "    fill: var(--button-hover-fill-color);\n",
              "  }\n",
              "\n",
              "  .colab-df-quickchart-complete:disabled,\n",
              "  .colab-df-quickchart-complete:disabled:hover {\n",
              "    background-color: var(--disabled-bg-color);\n",
              "    fill: var(--disabled-fill-color);\n",
              "    box-shadow: none;\n",
              "  }\n",
              "\n",
              "  .colab-df-spinner {\n",
              "    border: 2px solid var(--fill-color);\n",
              "    border-color: transparent;\n",
              "    border-bottom-color: var(--fill-color);\n",
              "    animation:\n",
              "      spin 1s steps(1) infinite;\n",
              "  }\n",
              "\n",
              "  @keyframes spin {\n",
              "    0% {\n",
              "      border-color: transparent;\n",
              "      border-bottom-color: var(--fill-color);\n",
              "      border-left-color: var(--fill-color);\n",
              "    }\n",
              "    20% {\n",
              "      border-color: transparent;\n",
              "      border-left-color: var(--fill-color);\n",
              "      border-top-color: var(--fill-color);\n",
              "    }\n",
              "    30% {\n",
              "      border-color: transparent;\n",
              "      border-left-color: var(--fill-color);\n",
              "      border-top-color: var(--fill-color);\n",
              "      border-right-color: var(--fill-color);\n",
              "    }\n",
              "    40% {\n",
              "      border-color: transparent;\n",
              "      border-right-color: var(--fill-color);\n",
              "      border-top-color: var(--fill-color);\n",
              "    }\n",
              "    60% {\n",
              "      border-color: transparent;\n",
              "      border-right-color: var(--fill-color);\n",
              "    }\n",
              "    80% {\n",
              "      border-color: transparent;\n",
              "      border-right-color: var(--fill-color);\n",
              "      border-bottom-color: var(--fill-color);\n",
              "    }\n",
              "    90% {\n",
              "      border-color: transparent;\n",
              "      border-bottom-color: var(--fill-color);\n",
              "    }\n",
              "  }\n",
              "</style>\n",
              "\n",
              "      <script>\n",
              "        async function quickchart(key) {\n",
              "          const quickchartButtonEl =\n",
              "            document.querySelector('#' + key + ' button');\n",
              "          quickchartButtonEl.disabled = true;  // To prevent multiple clicks.\n",
              "          quickchartButtonEl.classList.add('colab-df-spinner');\n",
              "          try {\n",
              "            const charts = await google.colab.kernel.invokeFunction(\n",
              "                'suggestCharts', [key], {});\n",
              "          } catch (error) {\n",
              "            console.error('Error during call to suggestCharts:', error);\n",
              "          }\n",
              "          quickchartButtonEl.classList.remove('colab-df-spinner');\n",
              "          quickchartButtonEl.classList.add('colab-df-quickchart-complete');\n",
              "        }\n",
              "        (() => {\n",
              "          let quickchartButtonEl =\n",
              "            document.querySelector('#df-afaaf108-d3f4-4734-b855-870dedd81b4c button');\n",
              "          quickchartButtonEl.style.display =\n",
              "            google.colab.kernel.accessAllowed ? 'block' : 'none';\n",
              "        })();\n",
              "      </script>\n",
              "    </div>\n",
              "\n",
              "  <div id=\"id_c4d2cc17-4669-42d4-834c-b5b9f87ee2e3\">\n",
              "    <style>\n",
              "      .colab-df-generate {\n",
              "        background-color: #E8F0FE;\n",
              "        border: none;\n",
              "        border-radius: 50%;\n",
              "        cursor: pointer;\n",
              "        display: none;\n",
              "        fill: #1967D2;\n",
              "        height: 32px;\n",
              "        padding: 0 0 0 0;\n",
              "        width: 32px;\n",
              "      }\n",
              "\n",
              "      .colab-df-generate:hover {\n",
              "        background-color: #E2EBFA;\n",
              "        box-shadow: 0px 1px 2px rgba(60, 64, 67, 0.3), 0px 1px 3px 1px rgba(60, 64, 67, 0.15);\n",
              "        fill: #174EA6;\n",
              "      }\n",
              "\n",
              "      [theme=dark] .colab-df-generate {\n",
              "        background-color: #3B4455;\n",
              "        fill: #D2E3FC;\n",
              "      }\n",
              "\n",
              "      [theme=dark] .colab-df-generate:hover {\n",
              "        background-color: #434B5C;\n",
              "        box-shadow: 0px 1px 3px 1px rgba(0, 0, 0, 0.15);\n",
              "        filter: drop-shadow(0px 1px 2px rgba(0, 0, 0, 0.3));\n",
              "        fill: #FFFFFF;\n",
              "      }\n",
              "    </style>\n",
              "    <button class=\"colab-df-generate\" onclick=\"generateWithVariable('df')\"\n",
              "            title=\"Generate code using this dataframe.\"\n",
              "            style=\"display:none;\">\n",
              "\n",
              "  <svg xmlns=\"http://www.w3.org/2000/svg\" height=\"24px\"viewBox=\"0 0 24 24\"\n",
              "       width=\"24px\">\n",
              "    <path d=\"M7,19H8.4L18.45,9,17,7.55,7,17.6ZM5,21V16.75L18.45,3.32a2,2,0,0,1,2.83,0l1.4,1.43a1.91,1.91,0,0,1,.58,1.4,1.91,1.91,0,0,1-.58,1.4L9.25,21ZM18.45,9,17,7.55Zm-12,3A5.31,5.31,0,0,0,4.9,8.1,5.31,5.31,0,0,0,1,6.5,5.31,5.31,0,0,0,4.9,4.9,5.31,5.31,0,0,0,6.5,1,5.31,5.31,0,0,0,8.1,4.9,5.31,5.31,0,0,0,12,6.5,5.46,5.46,0,0,0,6.5,12Z\"/>\n",
              "  </svg>\n",
              "    </button>\n",
              "    <script>\n",
              "      (() => {\n",
              "      const buttonEl =\n",
              "        document.querySelector('#id_c4d2cc17-4669-42d4-834c-b5b9f87ee2e3 button.colab-df-generate');\n",
              "      buttonEl.style.display =\n",
              "        google.colab.kernel.accessAllowed ? 'block' : 'none';\n",
              "\n",
              "      buttonEl.onclick = () => {\n",
              "        google.colab.notebook.generateWithVariable('df');\n",
              "      }\n",
              "      })();\n",
              "    </script>\n",
              "  </div>\n",
              "\n",
              "    </div>\n",
              "  </div>\n"
            ],
            "application/vnd.google.colaboratory.intrinsic+json": {
              "type": "dataframe",
              "variable_name": "df",
              "summary": "{\n  \"name\": \"df\",\n  \"rows\": 200,\n  \"fields\": [\n    {\n      \"column\": \"ID\",\n      \"properties\": {\n        \"dtype\": \"number\",\n        \"std\": 57,\n        \"min\": 0,\n        \"max\": 199,\n        \"num_unique_values\": 200,\n        \"samples\": [\n          95,\n          15,\n          30\n        ],\n        \"semantic_type\": \"\",\n        \"description\": \"\"\n      }\n    },\n    {\n      \"column\": \"energies\",\n      \"properties\": {\n        \"dtype\": \"number\",\n        \"std\": 0.45720382095101675,\n        \"min\": -17662.919921875,\n        \"max\": -17660.75,\n        \"num_unique_values\": 176,\n        \"samples\": [\n          -17662.376953125,\n          -17662.109375,\n          -17661.92578125\n        ],\n        \"semantic_type\": \"\",\n        \"description\": \"\"\n      }\n    }\n  ]\n}"
            }
          },
          "metadata": {},
          "execution_count": 26
        }
      ],
      "source": [
        "energies = np.array([prediction.energy for prediction in predictions])\n",
        "\n",
        "# Create DataFrame\n",
        "df = pd.DataFrame({\n",
        "    'ID': np.arange(len(energies)),\n",
        "    'energies': energies\n",
        "})\n",
        "\n",
        "df"
      ]
    },
    {
      "cell_type": "code",
      "execution_count": 27,
      "metadata": {
        "colab": {
          "base_uri": "https://localhost:8080/"
        },
        "id": "7WPAFZnalU1_",
        "outputId": "30724e5c-17d7-40f7-efca-8fb2d85a1ce9"
      },
      "outputs": [
        {
          "output_type": "stream",
          "name": "stdout",
          "text": [
            "Saved submission to YOUR_NAME_HERE_submission.csv\n"
          ]
        }
      ],
      "source": [
        "your_name = \"YOUR_NAME_HERE\"\n",
        "filename = f\"{your_name}_submission.csv\"\n",
        "df.to_csv(filename, index=False)\n",
        "print(f\"Saved submission to {filename}\")"
      ]
    },
    {
      "cell_type": "code",
      "source": [],
      "metadata": {
        "id": "35XNCEhGo3Nc"
      },
      "execution_count": null,
      "outputs": []
    }
  ],
  "metadata": {
    "colab": {
      "provenance": [],
      "gpuType": "T4"
    },
    "kernelspec": {
      "display_name": "Python 3",
      "name": "python3"
    },
    "language_info": {
      "codemirror_mode": {
        "name": "ipython",
        "version": 3
      },
      "file_extension": ".py",
      "mimetype": "text/x-python",
      "name": "python",
      "nbconvert_exporter": "python",
      "pygments_lexer": "ipython3",
      "version": "3.10.17"
    },
    "widgets": {
      "application/vnd.jupyter.widget-state+json": {
        "d7314468f0e843bb83741c88a6b737a7": {
          "model_module": "@jupyter-widgets/controls",
          "model_name": "HBoxModel",
          "model_module_version": "1.5.0",
          "state": {
            "_dom_classes": [],
            "_model_module": "@jupyter-widgets/controls",
            "_model_module_version": "1.5.0",
            "_model_name": "HBoxModel",
            "_view_count": null,
            "_view_module": "@jupyter-widgets/controls",
            "_view_module_version": "1.5.0",
            "_view_name": "HBoxView",
            "box_style": "",
            "children": [
              "IPY_MODEL_08d3e165bf62486a9eb6c445a1573e8d",
              "IPY_MODEL_7b210d3e43544ee8933dfd5cbc2e8c39",
              "IPY_MODEL_57e14e014631431b9ebc3fe26dc49b0e"
            ],
            "layout": "IPY_MODEL_cf6659e747c84233985f6c6cde1ff055"
          }
        },
        "08d3e165bf62486a9eb6c445a1573e8d": {
          "model_module": "@jupyter-widgets/controls",
          "model_name": "HTMLModel",
          "model_module_version": "1.5.0",
          "state": {
            "_dom_classes": [],
            "_model_module": "@jupyter-widgets/controls",
            "_model_module_version": "1.5.0",
            "_model_name": "HTMLModel",
            "_view_count": null,
            "_view_module": "@jupyter-widgets/controls",
            "_view_module_version": "1.5.0",
            "_view_name": "HTMLView",
            "description": "",
            "description_tooltip": null,
            "layout": "IPY_MODEL_3a54a7ad10194587b65ec3e0f7dddce0",
            "placeholder": "​",
            "style": "IPY_MODEL_84dd856d05ed4f049430ac0dc310ac99",
            "value": "Graph creation: 100%"
          }
        },
        "7b210d3e43544ee8933dfd5cbc2e8c39": {
          "model_module": "@jupyter-widgets/controls",
          "model_name": "FloatProgressModel",
          "model_module_version": "1.5.0",
          "state": {
            "_dom_classes": [],
            "_model_module": "@jupyter-widgets/controls",
            "_model_module_version": "1.5.0",
            "_model_name": "FloatProgressModel",
            "_view_count": null,
            "_view_module": "@jupyter-widgets/controls",
            "_view_module_version": "1.5.0",
            "_view_name": "ProgressView",
            "bar_style": "success",
            "description": "",
            "description_tooltip": null,
            "layout": "IPY_MODEL_d845a049e8734cfc8b7d11f8033f4bfd",
            "max": 500,
            "min": 0,
            "orientation": "horizontal",
            "style": "IPY_MODEL_8ffb35a5d59b451ca78b4409c91f5c9e",
            "value": 500
          }
        },
        "57e14e014631431b9ebc3fe26dc49b0e": {
          "model_module": "@jupyter-widgets/controls",
          "model_name": "HTMLModel",
          "model_module_version": "1.5.0",
          "state": {
            "_dom_classes": [],
            "_model_module": "@jupyter-widgets/controls",
            "_model_module_version": "1.5.0",
            "_model_name": "HTMLModel",
            "_view_count": null,
            "_view_module": "@jupyter-widgets/controls",
            "_view_module_version": "1.5.0",
            "_view_name": "HTMLView",
            "description": "",
            "description_tooltip": null,
            "layout": "IPY_MODEL_ab35c3a8be634e538e0dffa746c09292",
            "placeholder": "​",
            "style": "IPY_MODEL_c91323badffe4952ae9179b233c40a52",
            "value": " 500/500 [00:00&lt;00:00, 1659.66it/s]"
          }
        },
        "cf6659e747c84233985f6c6cde1ff055": {
          "model_module": "@jupyter-widgets/base",
          "model_name": "LayoutModel",
          "model_module_version": "1.2.0",
          "state": {
            "_model_module": "@jupyter-widgets/base",
            "_model_module_version": "1.2.0",
            "_model_name": "LayoutModel",
            "_view_count": null,
            "_view_module": "@jupyter-widgets/base",
            "_view_module_version": "1.2.0",
            "_view_name": "LayoutView",
            "align_content": null,
            "align_items": null,
            "align_self": null,
            "border": null,
            "bottom": null,
            "display": null,
            "flex": null,
            "flex_flow": null,
            "grid_area": null,
            "grid_auto_columns": null,
            "grid_auto_flow": null,
            "grid_auto_rows": null,
            "grid_column": null,
            "grid_gap": null,
            "grid_row": null,
            "grid_template_areas": null,
            "grid_template_columns": null,
            "grid_template_rows": null,
            "height": null,
            "justify_content": null,
            "justify_items": null,
            "left": null,
            "margin": null,
            "max_height": null,
            "max_width": null,
            "min_height": null,
            "min_width": null,
            "object_fit": null,
            "object_position": null,
            "order": null,
            "overflow": null,
            "overflow_x": null,
            "overflow_y": null,
            "padding": null,
            "right": null,
            "top": null,
            "visibility": null,
            "width": null
          }
        },
        "3a54a7ad10194587b65ec3e0f7dddce0": {
          "model_module": "@jupyter-widgets/base",
          "model_name": "LayoutModel",
          "model_module_version": "1.2.0",
          "state": {
            "_model_module": "@jupyter-widgets/base",
            "_model_module_version": "1.2.0",
            "_model_name": "LayoutModel",
            "_view_count": null,
            "_view_module": "@jupyter-widgets/base",
            "_view_module_version": "1.2.0",
            "_view_name": "LayoutView",
            "align_content": null,
            "align_items": null,
            "align_self": null,
            "border": null,
            "bottom": null,
            "display": null,
            "flex": null,
            "flex_flow": null,
            "grid_area": null,
            "grid_auto_columns": null,
            "grid_auto_flow": null,
            "grid_auto_rows": null,
            "grid_column": null,
            "grid_gap": null,
            "grid_row": null,
            "grid_template_areas": null,
            "grid_template_columns": null,
            "grid_template_rows": null,
            "height": null,
            "justify_content": null,
            "justify_items": null,
            "left": null,
            "margin": null,
            "max_height": null,
            "max_width": null,
            "min_height": null,
            "min_width": null,
            "object_fit": null,
            "object_position": null,
            "order": null,
            "overflow": null,
            "overflow_x": null,
            "overflow_y": null,
            "padding": null,
            "right": null,
            "top": null,
            "visibility": null,
            "width": null
          }
        },
        "84dd856d05ed4f049430ac0dc310ac99": {
          "model_module": "@jupyter-widgets/controls",
          "model_name": "DescriptionStyleModel",
          "model_module_version": "1.5.0",
          "state": {
            "_model_module": "@jupyter-widgets/controls",
            "_model_module_version": "1.5.0",
            "_model_name": "DescriptionStyleModel",
            "_view_count": null,
            "_view_module": "@jupyter-widgets/base",
            "_view_module_version": "1.2.0",
            "_view_name": "StyleView",
            "description_width": ""
          }
        },
        "d845a049e8734cfc8b7d11f8033f4bfd": {
          "model_module": "@jupyter-widgets/base",
          "model_name": "LayoutModel",
          "model_module_version": "1.2.0",
          "state": {
            "_model_module": "@jupyter-widgets/base",
            "_model_module_version": "1.2.0",
            "_model_name": "LayoutModel",
            "_view_count": null,
            "_view_module": "@jupyter-widgets/base",
            "_view_module_version": "1.2.0",
            "_view_name": "LayoutView",
            "align_content": null,
            "align_items": null,
            "align_self": null,
            "border": null,
            "bottom": null,
            "display": null,
            "flex": null,
            "flex_flow": null,
            "grid_area": null,
            "grid_auto_columns": null,
            "grid_auto_flow": null,
            "grid_auto_rows": null,
            "grid_column": null,
            "grid_gap": null,
            "grid_row": null,
            "grid_template_areas": null,
            "grid_template_columns": null,
            "grid_template_rows": null,
            "height": null,
            "justify_content": null,
            "justify_items": null,
            "left": null,
            "margin": null,
            "max_height": null,
            "max_width": null,
            "min_height": null,
            "min_width": null,
            "object_fit": null,
            "object_position": null,
            "order": null,
            "overflow": null,
            "overflow_x": null,
            "overflow_y": null,
            "padding": null,
            "right": null,
            "top": null,
            "visibility": null,
            "width": null
          }
        },
        "8ffb35a5d59b451ca78b4409c91f5c9e": {
          "model_module": "@jupyter-widgets/controls",
          "model_name": "ProgressStyleModel",
          "model_module_version": "1.5.0",
          "state": {
            "_model_module": "@jupyter-widgets/controls",
            "_model_module_version": "1.5.0",
            "_model_name": "ProgressStyleModel",
            "_view_count": null,
            "_view_module": "@jupyter-widgets/base",
            "_view_module_version": "1.2.0",
            "_view_name": "StyleView",
            "bar_color": null,
            "description_width": ""
          }
        },
        "ab35c3a8be634e538e0dffa746c09292": {
          "model_module": "@jupyter-widgets/base",
          "model_name": "LayoutModel",
          "model_module_version": "1.2.0",
          "state": {
            "_model_module": "@jupyter-widgets/base",
            "_model_module_version": "1.2.0",
            "_model_name": "LayoutModel",
            "_view_count": null,
            "_view_module": "@jupyter-widgets/base",
            "_view_module_version": "1.2.0",
            "_view_name": "LayoutView",
            "align_content": null,
            "align_items": null,
            "align_self": null,
            "border": null,
            "bottom": null,
            "display": null,
            "flex": null,
            "flex_flow": null,
            "grid_area": null,
            "grid_auto_columns": null,
            "grid_auto_flow": null,
            "grid_auto_rows": null,
            "grid_column": null,
            "grid_gap": null,
            "grid_row": null,
            "grid_template_areas": null,
            "grid_template_columns": null,
            "grid_template_rows": null,
            "height": null,
            "justify_content": null,
            "justify_items": null,
            "left": null,
            "margin": null,
            "max_height": null,
            "max_width": null,
            "min_height": null,
            "min_width": null,
            "object_fit": null,
            "object_position": null,
            "order": null,
            "overflow": null,
            "overflow_x": null,
            "overflow_y": null,
            "padding": null,
            "right": null,
            "top": null,
            "visibility": null,
            "width": null
          }
        },
        "c91323badffe4952ae9179b233c40a52": {
          "model_module": "@jupyter-widgets/controls",
          "model_name": "DescriptionStyleModel",
          "model_module_version": "1.5.0",
          "state": {
            "_model_module": "@jupyter-widgets/controls",
            "_model_module_version": "1.5.0",
            "_model_name": "DescriptionStyleModel",
            "_view_count": null,
            "_view_module": "@jupyter-widgets/base",
            "_view_module_version": "1.2.0",
            "_view_name": "StyleView",
            "description_width": ""
          }
        },
        "45c66254d95b4cdda73b430c5c54efc0": {
          "model_module": "@jupyter-widgets/controls",
          "model_name": "HBoxModel",
          "model_module_version": "1.5.0",
          "state": {
            "_dom_classes": [],
            "_model_module": "@jupyter-widgets/controls",
            "_model_module_version": "1.5.0",
            "_model_name": "HBoxModel",
            "_view_count": null,
            "_view_module": "@jupyter-widgets/controls",
            "_view_module_version": "1.5.0",
            "_view_name": "HBoxView",
            "box_style": "",
            "children": [
              "IPY_MODEL_256f84e86a3c4a3ab8cce036f9feeb27",
              "IPY_MODEL_a55ca68dba6d45a08851cd39255cdc64",
              "IPY_MODEL_3ff43a821b7e40a6aafdeafbb0eebc76"
            ],
            "layout": "IPY_MODEL_e1fa96bdb1dd4b9b8c8291ac06dbc2af"
          }
        },
        "256f84e86a3c4a3ab8cce036f9feeb27": {
          "model_module": "@jupyter-widgets/controls",
          "model_name": "HTMLModel",
          "model_module_version": "1.5.0",
          "state": {
            "_dom_classes": [],
            "_model_module": "@jupyter-widgets/controls",
            "_model_module_version": "1.5.0",
            "_model_name": "HTMLModel",
            "_view_count": null,
            "_view_module": "@jupyter-widgets/controls",
            "_view_module_version": "1.5.0",
            "_view_name": "HTMLView",
            "description": "",
            "description_tooltip": null,
            "layout": "IPY_MODEL_3148cf609a1944ac8ef799d68af0a395",
            "placeholder": "​",
            "style": "IPY_MODEL_1c79c5de8a0844789358655d47561ab0",
            "value": "valid graph creation: 100%"
          }
        },
        "a55ca68dba6d45a08851cd39255cdc64": {
          "model_module": "@jupyter-widgets/controls",
          "model_name": "FloatProgressModel",
          "model_module_version": "1.5.0",
          "state": {
            "_dom_classes": [],
            "_model_module": "@jupyter-widgets/controls",
            "_model_module_version": "1.5.0",
            "_model_name": "FloatProgressModel",
            "_view_count": null,
            "_view_module": "@jupyter-widgets/controls",
            "_view_module_version": "1.5.0",
            "_view_name": "ProgressView",
            "bar_style": "success",
            "description": "",
            "description_tooltip": null,
            "layout": "IPY_MODEL_c0f562479d754c5693db69907dc0ef33",
            "max": 100,
            "min": 0,
            "orientation": "horizontal",
            "style": "IPY_MODEL_9654e3e4076349079a6966707c1e0ed9",
            "value": 100
          }
        },
        "3ff43a821b7e40a6aafdeafbb0eebc76": {
          "model_module": "@jupyter-widgets/controls",
          "model_name": "HTMLModel",
          "model_module_version": "1.5.0",
          "state": {
            "_dom_classes": [],
            "_model_module": "@jupyter-widgets/controls",
            "_model_module_version": "1.5.0",
            "_model_name": "HTMLModel",
            "_view_count": null,
            "_view_module": "@jupyter-widgets/controls",
            "_view_module_version": "1.5.0",
            "_view_name": "HTMLView",
            "description": "",
            "description_tooltip": null,
            "layout": "IPY_MODEL_b25ddcfbfd454a158cc8d53271fbcc0f",
            "placeholder": "​",
            "style": "IPY_MODEL_49ca2efaf6ff4a02b9ce54a61bd5870e",
            "value": " 100/100 [00:00&lt;00:00, 955.98it/s]"
          }
        },
        "e1fa96bdb1dd4b9b8c8291ac06dbc2af": {
          "model_module": "@jupyter-widgets/base",
          "model_name": "LayoutModel",
          "model_module_version": "1.2.0",
          "state": {
            "_model_module": "@jupyter-widgets/base",
            "_model_module_version": "1.2.0",
            "_model_name": "LayoutModel",
            "_view_count": null,
            "_view_module": "@jupyter-widgets/base",
            "_view_module_version": "1.2.0",
            "_view_name": "LayoutView",
            "align_content": null,
            "align_items": null,
            "align_self": null,
            "border": null,
            "bottom": null,
            "display": null,
            "flex": null,
            "flex_flow": null,
            "grid_area": null,
            "grid_auto_columns": null,
            "grid_auto_flow": null,
            "grid_auto_rows": null,
            "grid_column": null,
            "grid_gap": null,
            "grid_row": null,
            "grid_template_areas": null,
            "grid_template_columns": null,
            "grid_template_rows": null,
            "height": null,
            "justify_content": null,
            "justify_items": null,
            "left": null,
            "margin": null,
            "max_height": null,
            "max_width": null,
            "min_height": null,
            "min_width": null,
            "object_fit": null,
            "object_position": null,
            "order": null,
            "overflow": null,
            "overflow_x": null,
            "overflow_y": null,
            "padding": null,
            "right": null,
            "top": null,
            "visibility": null,
            "width": null
          }
        },
        "3148cf609a1944ac8ef799d68af0a395": {
          "model_module": "@jupyter-widgets/base",
          "model_name": "LayoutModel",
          "model_module_version": "1.2.0",
          "state": {
            "_model_module": "@jupyter-widgets/base",
            "_model_module_version": "1.2.0",
            "_model_name": "LayoutModel",
            "_view_count": null,
            "_view_module": "@jupyter-widgets/base",
            "_view_module_version": "1.2.0",
            "_view_name": "LayoutView",
            "align_content": null,
            "align_items": null,
            "align_self": null,
            "border": null,
            "bottom": null,
            "display": null,
            "flex": null,
            "flex_flow": null,
            "grid_area": null,
            "grid_auto_columns": null,
            "grid_auto_flow": null,
            "grid_auto_rows": null,
            "grid_column": null,
            "grid_gap": null,
            "grid_row": null,
            "grid_template_areas": null,
            "grid_template_columns": null,
            "grid_template_rows": null,
            "height": null,
            "justify_content": null,
            "justify_items": null,
            "left": null,
            "margin": null,
            "max_height": null,
            "max_width": null,
            "min_height": null,
            "min_width": null,
            "object_fit": null,
            "object_position": null,
            "order": null,
            "overflow": null,
            "overflow_x": null,
            "overflow_y": null,
            "padding": null,
            "right": null,
            "top": null,
            "visibility": null,
            "width": null
          }
        },
        "1c79c5de8a0844789358655d47561ab0": {
          "model_module": "@jupyter-widgets/controls",
          "model_name": "DescriptionStyleModel",
          "model_module_version": "1.5.0",
          "state": {
            "_model_module": "@jupyter-widgets/controls",
            "_model_module_version": "1.5.0",
            "_model_name": "DescriptionStyleModel",
            "_view_count": null,
            "_view_module": "@jupyter-widgets/base",
            "_view_module_version": "1.2.0",
            "_view_name": "StyleView",
            "description_width": ""
          }
        },
        "c0f562479d754c5693db69907dc0ef33": {
          "model_module": "@jupyter-widgets/base",
          "model_name": "LayoutModel",
          "model_module_version": "1.2.0",
          "state": {
            "_model_module": "@jupyter-widgets/base",
            "_model_module_version": "1.2.0",
            "_model_name": "LayoutModel",
            "_view_count": null,
            "_view_module": "@jupyter-widgets/base",
            "_view_module_version": "1.2.0",
            "_view_name": "LayoutView",
            "align_content": null,
            "align_items": null,
            "align_self": null,
            "border": null,
            "bottom": null,
            "display": null,
            "flex": null,
            "flex_flow": null,
            "grid_area": null,
            "grid_auto_columns": null,
            "grid_auto_flow": null,
            "grid_auto_rows": null,
            "grid_column": null,
            "grid_gap": null,
            "grid_row": null,
            "grid_template_areas": null,
            "grid_template_columns": null,
            "grid_template_rows": null,
            "height": null,
            "justify_content": null,
            "justify_items": null,
            "left": null,
            "margin": null,
            "max_height": null,
            "max_width": null,
            "min_height": null,
            "min_width": null,
            "object_fit": null,
            "object_position": null,
            "order": null,
            "overflow": null,
            "overflow_x": null,
            "overflow_y": null,
            "padding": null,
            "right": null,
            "top": null,
            "visibility": null,
            "width": null
          }
        },
        "9654e3e4076349079a6966707c1e0ed9": {
          "model_module": "@jupyter-widgets/controls",
          "model_name": "ProgressStyleModel",
          "model_module_version": "1.5.0",
          "state": {
            "_model_module": "@jupyter-widgets/controls",
            "_model_module_version": "1.5.0",
            "_model_name": "ProgressStyleModel",
            "_view_count": null,
            "_view_module": "@jupyter-widgets/base",
            "_view_module_version": "1.2.0",
            "_view_name": "StyleView",
            "bar_color": null,
            "description_width": ""
          }
        },
        "b25ddcfbfd454a158cc8d53271fbcc0f": {
          "model_module": "@jupyter-widgets/base",
          "model_name": "LayoutModel",
          "model_module_version": "1.2.0",
          "state": {
            "_model_module": "@jupyter-widgets/base",
            "_model_module_version": "1.2.0",
            "_model_name": "LayoutModel",
            "_view_count": null,
            "_view_module": "@jupyter-widgets/base",
            "_view_module_version": "1.2.0",
            "_view_name": "LayoutView",
            "align_content": null,
            "align_items": null,
            "align_self": null,
            "border": null,
            "bottom": null,
            "display": null,
            "flex": null,
            "flex_flow": null,
            "grid_area": null,
            "grid_auto_columns": null,
            "grid_auto_flow": null,
            "grid_auto_rows": null,
            "grid_column": null,
            "grid_gap": null,
            "grid_row": null,
            "grid_template_areas": null,
            "grid_template_columns": null,
            "grid_template_rows": null,
            "height": null,
            "justify_content": null,
            "justify_items": null,
            "left": null,
            "margin": null,
            "max_height": null,
            "max_width": null,
            "min_height": null,
            "min_width": null,
            "object_fit": null,
            "object_position": null,
            "order": null,
            "overflow": null,
            "overflow_x": null,
            "overflow_y": null,
            "padding": null,
            "right": null,
            "top": null,
            "visibility": null,
            "width": null
          }
        },
        "49ca2efaf6ff4a02b9ce54a61bd5870e": {
          "model_module": "@jupyter-widgets/controls",
          "model_name": "DescriptionStyleModel",
          "model_module_version": "1.5.0",
          "state": {
            "_model_module": "@jupyter-widgets/controls",
            "_model_module_version": "1.5.0",
            "_model_name": "DescriptionStyleModel",
            "_view_count": null,
            "_view_module": "@jupyter-widgets/base",
            "_view_module_version": "1.2.0",
            "_view_name": "StyleView",
            "description_width": ""
          }
        },
        "0ef5aa42a3f74482a5f941554073a42a": {
          "model_module": "@jupyter-widgets/controls",
          "model_name": "HBoxModel",
          "model_module_version": "1.5.0",
          "state": {
            "_dom_classes": [],
            "_model_module": "@jupyter-widgets/controls",
            "_model_module_version": "1.5.0",
            "_model_name": "HBoxModel",
            "_view_count": null,
            "_view_module": "@jupyter-widgets/controls",
            "_view_module_version": "1.5.0",
            "_view_name": "HBoxView",
            "box_style": "",
            "children": [
              "IPY_MODEL_5116ff23be034713aa6c02c59e5594d5",
              "IPY_MODEL_2444bd4d5897431c9e72d152ee65e689",
              "IPY_MODEL_a1a51120ca4f48d7bb042e3180e9b66f"
            ],
            "layout": "IPY_MODEL_24b72bf9a27744e38bc2e7a75df07a14"
          }
        },
        "5116ff23be034713aa6c02c59e5594d5": {
          "model_module": "@jupyter-widgets/controls",
          "model_name": "HTMLModel",
          "model_module_version": "1.5.0",
          "state": {
            "_dom_classes": [],
            "_model_module": "@jupyter-widgets/controls",
            "_model_module_version": "1.5.0",
            "_model_name": "HTMLModel",
            "_view_count": null,
            "_view_module": "@jupyter-widgets/controls",
            "_view_module_version": "1.5.0",
            "_view_name": "HTMLView",
            "description": "",
            "description_tooltip": null,
            "layout": "IPY_MODEL_e89bb7b3f28c46d1aef98483513d8367",
            "placeholder": "​",
            "style": "IPY_MODEL_b7e3213c35ec4481b490cbab35f235d3",
            "value": "test graph creation: "
          }
        },
        "2444bd4d5897431c9e72d152ee65e689": {
          "model_module": "@jupyter-widgets/controls",
          "model_name": "FloatProgressModel",
          "model_module_version": "1.5.0",
          "state": {
            "_dom_classes": [],
            "_model_module": "@jupyter-widgets/controls",
            "_model_module_version": "1.5.0",
            "_model_name": "FloatProgressModel",
            "_view_count": null,
            "_view_module": "@jupyter-widgets/controls",
            "_view_module_version": "1.5.0",
            "_view_name": "ProgressView",
            "bar_style": "success",
            "description": "",
            "description_tooltip": null,
            "layout": "IPY_MODEL_b8d867b55df74a76904ebf6aa478976e",
            "max": 1,
            "min": 0,
            "orientation": "horizontal",
            "style": "IPY_MODEL_d7a1083bc00a43229646b051d59ddcc9",
            "value": 0
          }
        },
        "a1a51120ca4f48d7bb042e3180e9b66f": {
          "model_module": "@jupyter-widgets/controls",
          "model_name": "HTMLModel",
          "model_module_version": "1.5.0",
          "state": {
            "_dom_classes": [],
            "_model_module": "@jupyter-widgets/controls",
            "_model_module_version": "1.5.0",
            "_model_name": "HTMLModel",
            "_view_count": null,
            "_view_module": "@jupyter-widgets/controls",
            "_view_module_version": "1.5.0",
            "_view_name": "HTMLView",
            "description": "",
            "description_tooltip": null,
            "layout": "IPY_MODEL_09577baea0894907a7e0b9caec35c66a",
            "placeholder": "​",
            "style": "IPY_MODEL_a395bfb359d24d2a82747983dbfc4db3",
            "value": " 0/0 [00:00&lt;?, ?it/s]"
          }
        },
        "24b72bf9a27744e38bc2e7a75df07a14": {
          "model_module": "@jupyter-widgets/base",
          "model_name": "LayoutModel",
          "model_module_version": "1.2.0",
          "state": {
            "_model_module": "@jupyter-widgets/base",
            "_model_module_version": "1.2.0",
            "_model_name": "LayoutModel",
            "_view_count": null,
            "_view_module": "@jupyter-widgets/base",
            "_view_module_version": "1.2.0",
            "_view_name": "LayoutView",
            "align_content": null,
            "align_items": null,
            "align_self": null,
            "border": null,
            "bottom": null,
            "display": null,
            "flex": null,
            "flex_flow": null,
            "grid_area": null,
            "grid_auto_columns": null,
            "grid_auto_flow": null,
            "grid_auto_rows": null,
            "grid_column": null,
            "grid_gap": null,
            "grid_row": null,
            "grid_template_areas": null,
            "grid_template_columns": null,
            "grid_template_rows": null,
            "height": null,
            "justify_content": null,
            "justify_items": null,
            "left": null,
            "margin": null,
            "max_height": null,
            "max_width": null,
            "min_height": null,
            "min_width": null,
            "object_fit": null,
            "object_position": null,
            "order": null,
            "overflow": null,
            "overflow_x": null,
            "overflow_y": null,
            "padding": null,
            "right": null,
            "top": null,
            "visibility": null,
            "width": null
          }
        },
        "e89bb7b3f28c46d1aef98483513d8367": {
          "model_module": "@jupyter-widgets/base",
          "model_name": "LayoutModel",
          "model_module_version": "1.2.0",
          "state": {
            "_model_module": "@jupyter-widgets/base",
            "_model_module_version": "1.2.0",
            "_model_name": "LayoutModel",
            "_view_count": null,
            "_view_module": "@jupyter-widgets/base",
            "_view_module_version": "1.2.0",
            "_view_name": "LayoutView",
            "align_content": null,
            "align_items": null,
            "align_self": null,
            "border": null,
            "bottom": null,
            "display": null,
            "flex": null,
            "flex_flow": null,
            "grid_area": null,
            "grid_auto_columns": null,
            "grid_auto_flow": null,
            "grid_auto_rows": null,
            "grid_column": null,
            "grid_gap": null,
            "grid_row": null,
            "grid_template_areas": null,
            "grid_template_columns": null,
            "grid_template_rows": null,
            "height": null,
            "justify_content": null,
            "justify_items": null,
            "left": null,
            "margin": null,
            "max_height": null,
            "max_width": null,
            "min_height": null,
            "min_width": null,
            "object_fit": null,
            "object_position": null,
            "order": null,
            "overflow": null,
            "overflow_x": null,
            "overflow_y": null,
            "padding": null,
            "right": null,
            "top": null,
            "visibility": null,
            "width": null
          }
        },
        "b7e3213c35ec4481b490cbab35f235d3": {
          "model_module": "@jupyter-widgets/controls",
          "model_name": "DescriptionStyleModel",
          "model_module_version": "1.5.0",
          "state": {
            "_model_module": "@jupyter-widgets/controls",
            "_model_module_version": "1.5.0",
            "_model_name": "DescriptionStyleModel",
            "_view_count": null,
            "_view_module": "@jupyter-widgets/base",
            "_view_module_version": "1.2.0",
            "_view_name": "StyleView",
            "description_width": ""
          }
        },
        "b8d867b55df74a76904ebf6aa478976e": {
          "model_module": "@jupyter-widgets/base",
          "model_name": "LayoutModel",
          "model_module_version": "1.2.0",
          "state": {
            "_model_module": "@jupyter-widgets/base",
            "_model_module_version": "1.2.0",
            "_model_name": "LayoutModel",
            "_view_count": null,
            "_view_module": "@jupyter-widgets/base",
            "_view_module_version": "1.2.0",
            "_view_name": "LayoutView",
            "align_content": null,
            "align_items": null,
            "align_self": null,
            "border": null,
            "bottom": null,
            "display": null,
            "flex": null,
            "flex_flow": null,
            "grid_area": null,
            "grid_auto_columns": null,
            "grid_auto_flow": null,
            "grid_auto_rows": null,
            "grid_column": null,
            "grid_gap": null,
            "grid_row": null,
            "grid_template_areas": null,
            "grid_template_columns": null,
            "grid_template_rows": null,
            "height": null,
            "justify_content": null,
            "justify_items": null,
            "left": null,
            "margin": null,
            "max_height": null,
            "max_width": null,
            "min_height": null,
            "min_width": null,
            "object_fit": null,
            "object_position": null,
            "order": null,
            "overflow": null,
            "overflow_x": null,
            "overflow_y": null,
            "padding": null,
            "right": null,
            "top": null,
            "visibility": null,
            "width": "20px"
          }
        },
        "d7a1083bc00a43229646b051d59ddcc9": {
          "model_module": "@jupyter-widgets/controls",
          "model_name": "ProgressStyleModel",
          "model_module_version": "1.5.0",
          "state": {
            "_model_module": "@jupyter-widgets/controls",
            "_model_module_version": "1.5.0",
            "_model_name": "ProgressStyleModel",
            "_view_count": null,
            "_view_module": "@jupyter-widgets/base",
            "_view_module_version": "1.2.0",
            "_view_name": "StyleView",
            "bar_color": null,
            "description_width": ""
          }
        },
        "09577baea0894907a7e0b9caec35c66a": {
          "model_module": "@jupyter-widgets/base",
          "model_name": "LayoutModel",
          "model_module_version": "1.2.0",
          "state": {
            "_model_module": "@jupyter-widgets/base",
            "_model_module_version": "1.2.0",
            "_model_name": "LayoutModel",
            "_view_count": null,
            "_view_module": "@jupyter-widgets/base",
            "_view_module_version": "1.2.0",
            "_view_name": "LayoutView",
            "align_content": null,
            "align_items": null,
            "align_self": null,
            "border": null,
            "bottom": null,
            "display": null,
            "flex": null,
            "flex_flow": null,
            "grid_area": null,
            "grid_auto_columns": null,
            "grid_auto_flow": null,
            "grid_auto_rows": null,
            "grid_column": null,
            "grid_gap": null,
            "grid_row": null,
            "grid_template_areas": null,
            "grid_template_columns": null,
            "grid_template_rows": null,
            "height": null,
            "justify_content": null,
            "justify_items": null,
            "left": null,
            "margin": null,
            "max_height": null,
            "max_width": null,
            "min_height": null,
            "min_width": null,
            "object_fit": null,
            "object_position": null,
            "order": null,
            "overflow": null,
            "overflow_x": null,
            "overflow_y": null,
            "padding": null,
            "right": null,
            "top": null,
            "visibility": null,
            "width": null
          }
        },
        "a395bfb359d24d2a82747983dbfc4db3": {
          "model_module": "@jupyter-widgets/controls",
          "model_name": "DescriptionStyleModel",
          "model_module_version": "1.5.0",
          "state": {
            "_model_module": "@jupyter-widgets/controls",
            "_model_module_version": "1.5.0",
            "_model_name": "DescriptionStyleModel",
            "_view_count": null,
            "_view_module": "@jupyter-widgets/base",
            "_view_module_version": "1.2.0",
            "_view_name": "StyleView",
            "description_width": ""
          }
        },
        "7c9cb7aa602544dfbbdeb9bb59c03454": {
          "model_module": "@jupyter-widgets/controls",
          "model_name": "HBoxModel",
          "model_module_version": "1.5.0",
          "state": {
            "_dom_classes": [],
            "_model_module": "@jupyter-widgets/controls",
            "_model_module_version": "1.5.0",
            "_model_name": "HBoxModel",
            "_view_count": null,
            "_view_module": "@jupyter-widgets/controls",
            "_view_module_version": "1.5.0",
            "_view_name": "HBoxView",
            "box_style": "",
            "children": [
              "IPY_MODEL_b9c4b91f20cc4cf39756f4accbeb3e2e",
              "IPY_MODEL_7131fbce4c6f491db3cd81d0cc7db6d3",
              "IPY_MODEL_2ecacdf3bd604b1098085acc113f2546"
            ],
            "layout": "IPY_MODEL_4dac3bd415604beca6e6990cd999dc27"
          }
        },
        "b9c4b91f20cc4cf39756f4accbeb3e2e": {
          "model_module": "@jupyter-widgets/controls",
          "model_name": "HTMLModel",
          "model_module_version": "1.5.0",
          "state": {
            "_dom_classes": [],
            "_model_module": "@jupyter-widgets/controls",
            "_model_module_version": "1.5.0",
            "_model_name": "HTMLModel",
            "_view_count": null,
            "_view_module": "@jupyter-widgets/controls",
            "_view_module_version": "1.5.0",
            "_view_name": "HTMLView",
            "description": "",
            "description_tooltip": null,
            "layout": "IPY_MODEL_fbddbd5e08484bd990de4eb7eb0383e4",
            "placeholder": "​",
            "style": "IPY_MODEL_54b6d37c5ccc4f52bafaf8f49bab50fe",
            "value": "Average number of neighbors computation: 100%"
          }
        },
        "7131fbce4c6f491db3cd81d0cc7db6d3": {
          "model_module": "@jupyter-widgets/controls",
          "model_name": "FloatProgressModel",
          "model_module_version": "1.5.0",
          "state": {
            "_dom_classes": [],
            "_model_module": "@jupyter-widgets/controls",
            "_model_module_version": "1.5.0",
            "_model_name": "FloatProgressModel",
            "_view_count": null,
            "_view_module": "@jupyter-widgets/controls",
            "_view_module_version": "1.5.0",
            "_view_name": "ProgressView",
            "bar_style": "success",
            "description": "",
            "description_tooltip": null,
            "layout": "IPY_MODEL_439952698a65466ba097e79831b1cfa5",
            "max": 500,
            "min": 0,
            "orientation": "horizontal",
            "style": "IPY_MODEL_6b466591eb684a12bf75108359ee12af",
            "value": 500
          }
        },
        "2ecacdf3bd604b1098085acc113f2546": {
          "model_module": "@jupyter-widgets/controls",
          "model_name": "HTMLModel",
          "model_module_version": "1.5.0",
          "state": {
            "_dom_classes": [],
            "_model_module": "@jupyter-widgets/controls",
            "_model_module_version": "1.5.0",
            "_model_name": "HTMLModel",
            "_view_count": null,
            "_view_module": "@jupyter-widgets/controls",
            "_view_module_version": "1.5.0",
            "_view_name": "HTMLView",
            "description": "",
            "description_tooltip": null,
            "layout": "IPY_MODEL_908459e7c56640a7bbb34ad4e45581b9",
            "placeholder": "​",
            "style": "IPY_MODEL_307c5b5c5d2742bd8329bbcf3f67abfe",
            "value": " 500/500 [00:00&lt;00:00, 11777.25it/s]"
          }
        },
        "4dac3bd415604beca6e6990cd999dc27": {
          "model_module": "@jupyter-widgets/base",
          "model_name": "LayoutModel",
          "model_module_version": "1.2.0",
          "state": {
            "_model_module": "@jupyter-widgets/base",
            "_model_module_version": "1.2.0",
            "_model_name": "LayoutModel",
            "_view_count": null,
            "_view_module": "@jupyter-widgets/base",
            "_view_module_version": "1.2.0",
            "_view_name": "LayoutView",
            "align_content": null,
            "align_items": null,
            "align_self": null,
            "border": null,
            "bottom": null,
            "display": null,
            "flex": null,
            "flex_flow": null,
            "grid_area": null,
            "grid_auto_columns": null,
            "grid_auto_flow": null,
            "grid_auto_rows": null,
            "grid_column": null,
            "grid_gap": null,
            "grid_row": null,
            "grid_template_areas": null,
            "grid_template_columns": null,
            "grid_template_rows": null,
            "height": null,
            "justify_content": null,
            "justify_items": null,
            "left": null,
            "margin": null,
            "max_height": null,
            "max_width": null,
            "min_height": null,
            "min_width": null,
            "object_fit": null,
            "object_position": null,
            "order": null,
            "overflow": null,
            "overflow_x": null,
            "overflow_y": null,
            "padding": null,
            "right": null,
            "top": null,
            "visibility": null,
            "width": null
          }
        },
        "fbddbd5e08484bd990de4eb7eb0383e4": {
          "model_module": "@jupyter-widgets/base",
          "model_name": "LayoutModel",
          "model_module_version": "1.2.0",
          "state": {
            "_model_module": "@jupyter-widgets/base",
            "_model_module_version": "1.2.0",
            "_model_name": "LayoutModel",
            "_view_count": null,
            "_view_module": "@jupyter-widgets/base",
            "_view_module_version": "1.2.0",
            "_view_name": "LayoutView",
            "align_content": null,
            "align_items": null,
            "align_self": null,
            "border": null,
            "bottom": null,
            "display": null,
            "flex": null,
            "flex_flow": null,
            "grid_area": null,
            "grid_auto_columns": null,
            "grid_auto_flow": null,
            "grid_auto_rows": null,
            "grid_column": null,
            "grid_gap": null,
            "grid_row": null,
            "grid_template_areas": null,
            "grid_template_columns": null,
            "grid_template_rows": null,
            "height": null,
            "justify_content": null,
            "justify_items": null,
            "left": null,
            "margin": null,
            "max_height": null,
            "max_width": null,
            "min_height": null,
            "min_width": null,
            "object_fit": null,
            "object_position": null,
            "order": null,
            "overflow": null,
            "overflow_x": null,
            "overflow_y": null,
            "padding": null,
            "right": null,
            "top": null,
            "visibility": null,
            "width": null
          }
        },
        "54b6d37c5ccc4f52bafaf8f49bab50fe": {
          "model_module": "@jupyter-widgets/controls",
          "model_name": "DescriptionStyleModel",
          "model_module_version": "1.5.0",
          "state": {
            "_model_module": "@jupyter-widgets/controls",
            "_model_module_version": "1.5.0",
            "_model_name": "DescriptionStyleModel",
            "_view_count": null,
            "_view_module": "@jupyter-widgets/base",
            "_view_module_version": "1.2.0",
            "_view_name": "StyleView",
            "description_width": ""
          }
        },
        "439952698a65466ba097e79831b1cfa5": {
          "model_module": "@jupyter-widgets/base",
          "model_name": "LayoutModel",
          "model_module_version": "1.2.0",
          "state": {
            "_model_module": "@jupyter-widgets/base",
            "_model_module_version": "1.2.0",
            "_model_name": "LayoutModel",
            "_view_count": null,
            "_view_module": "@jupyter-widgets/base",
            "_view_module_version": "1.2.0",
            "_view_name": "LayoutView",
            "align_content": null,
            "align_items": null,
            "align_self": null,
            "border": null,
            "bottom": null,
            "display": null,
            "flex": null,
            "flex_flow": null,
            "grid_area": null,
            "grid_auto_columns": null,
            "grid_auto_flow": null,
            "grid_auto_rows": null,
            "grid_column": null,
            "grid_gap": null,
            "grid_row": null,
            "grid_template_areas": null,
            "grid_template_columns": null,
            "grid_template_rows": null,
            "height": null,
            "justify_content": null,
            "justify_items": null,
            "left": null,
            "margin": null,
            "max_height": null,
            "max_width": null,
            "min_height": null,
            "min_width": null,
            "object_fit": null,
            "object_position": null,
            "order": null,
            "overflow": null,
            "overflow_x": null,
            "overflow_y": null,
            "padding": null,
            "right": null,
            "top": null,
            "visibility": null,
            "width": null
          }
        },
        "6b466591eb684a12bf75108359ee12af": {
          "model_module": "@jupyter-widgets/controls",
          "model_name": "ProgressStyleModel",
          "model_module_version": "1.5.0",
          "state": {
            "_model_module": "@jupyter-widgets/controls",
            "_model_module_version": "1.5.0",
            "_model_name": "ProgressStyleModel",
            "_view_count": null,
            "_view_module": "@jupyter-widgets/base",
            "_view_module_version": "1.2.0",
            "_view_name": "StyleView",
            "bar_color": null,
            "description_width": ""
          }
        },
        "908459e7c56640a7bbb34ad4e45581b9": {
          "model_module": "@jupyter-widgets/base",
          "model_name": "LayoutModel",
          "model_module_version": "1.2.0",
          "state": {
            "_model_module": "@jupyter-widgets/base",
            "_model_module_version": "1.2.0",
            "_model_name": "LayoutModel",
            "_view_count": null,
            "_view_module": "@jupyter-widgets/base",
            "_view_module_version": "1.2.0",
            "_view_name": "LayoutView",
            "align_content": null,
            "align_items": null,
            "align_self": null,
            "border": null,
            "bottom": null,
            "display": null,
            "flex": null,
            "flex_flow": null,
            "grid_area": null,
            "grid_auto_columns": null,
            "grid_auto_flow": null,
            "grid_auto_rows": null,
            "grid_column": null,
            "grid_gap": null,
            "grid_row": null,
            "grid_template_areas": null,
            "grid_template_columns": null,
            "grid_template_rows": null,
            "height": null,
            "justify_content": null,
            "justify_items": null,
            "left": null,
            "margin": null,
            "max_height": null,
            "max_width": null,
            "min_height": null,
            "min_width": null,
            "object_fit": null,
            "object_position": null,
            "order": null,
            "overflow": null,
            "overflow_x": null,
            "overflow_y": null,
            "padding": null,
            "right": null,
            "top": null,
            "visibility": null,
            "width": null
          }
        },
        "307c5b5c5d2742bd8329bbcf3f67abfe": {
          "model_module": "@jupyter-widgets/controls",
          "model_name": "DescriptionStyleModel",
          "model_module_version": "1.5.0",
          "state": {
            "_model_module": "@jupyter-widgets/controls",
            "_model_module_version": "1.5.0",
            "_model_name": "DescriptionStyleModel",
            "_view_count": null,
            "_view_module": "@jupyter-widgets/base",
            "_view_module_version": "1.2.0",
            "_view_name": "StyleView",
            "description_width": ""
          }
        }
      }
    },
    "accelerator": "GPU"
  },
  "nbformat": 4,
  "nbformat_minor": 0
}